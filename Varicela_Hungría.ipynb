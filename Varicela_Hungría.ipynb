{
  "nbformat": 4,
  "nbformat_minor": 0,
  "metadata": {
    "colab": {
      "name": "Varicela Hungría",
      "provenance": []
    },
    "kernelspec": {
      "name": "python3",
      "display_name": "Python 3"
    },
    "language_info": {
      "name": "python"
    }
  },
  "cells": [
    {
      "cell_type": "code",
      "execution_count": 1,
      "metadata": {
        "id": "JfVQUbnQwE0a"
      },
      "outputs": [],
      "source": [
        "import numpy as np\n",
        "import cv2 as cv\n",
        "import matplotlib.pyplot as plt\n",
        "import pandas as pd"
      ]
    },
    {
      "cell_type": "code",
      "source": [
        "from google.colab import files"
      ],
      "metadata": {
        "id": "5IDcb9WWwLHM"
      },
      "execution_count": 2,
      "outputs": []
    },
    {
      "cell_type": "code",
      "source": [
        "uploaded=files.upload()"
      ],
      "metadata": {
        "colab": {
          "resources": {
            "http://localhost:8080/nbextensions/google.colab/files.js": {
              "data": "Ly8gQ29weXJpZ2h0IDIwMTcgR29vZ2xlIExMQwovLwovLyBMaWNlbnNlZCB1bmRlciB0aGUgQXBhY2hlIExpY2Vuc2UsIFZlcnNpb24gMi4wICh0aGUgIkxpY2Vuc2UiKTsKLy8geW91IG1heSBub3QgdXNlIHRoaXMgZmlsZSBleGNlcHQgaW4gY29tcGxpYW5jZSB3aXRoIHRoZSBMaWNlbnNlLgovLyBZb3UgbWF5IG9idGFpbiBhIGNvcHkgb2YgdGhlIExpY2Vuc2UgYXQKLy8KLy8gICAgICBodHRwOi8vd3d3LmFwYWNoZS5vcmcvbGljZW5zZXMvTElDRU5TRS0yLjAKLy8KLy8gVW5sZXNzIHJlcXVpcmVkIGJ5IGFwcGxpY2FibGUgbGF3IG9yIGFncmVlZCB0byBpbiB3cml0aW5nLCBzb2Z0d2FyZQovLyBkaXN0cmlidXRlZCB1bmRlciB0aGUgTGljZW5zZSBpcyBkaXN0cmlidXRlZCBvbiBhbiAiQVMgSVMiIEJBU0lTLAovLyBXSVRIT1VUIFdBUlJBTlRJRVMgT1IgQ09ORElUSU9OUyBPRiBBTlkgS0lORCwgZWl0aGVyIGV4cHJlc3Mgb3IgaW1wbGllZC4KLy8gU2VlIHRoZSBMaWNlbnNlIGZvciB0aGUgc3BlY2lmaWMgbGFuZ3VhZ2UgZ292ZXJuaW5nIHBlcm1pc3Npb25zIGFuZAovLyBsaW1pdGF0aW9ucyB1bmRlciB0aGUgTGljZW5zZS4KCi8qKgogKiBAZmlsZW92ZXJ2aWV3IEhlbHBlcnMgZm9yIGdvb2dsZS5jb2xhYiBQeXRob24gbW9kdWxlLgogKi8KKGZ1bmN0aW9uKHNjb3BlKSB7CmZ1bmN0aW9uIHNwYW4odGV4dCwgc3R5bGVBdHRyaWJ1dGVzID0ge30pIHsKICBjb25zdCBlbGVtZW50ID0gZG9jdW1lbnQuY3JlYXRlRWxlbWVudCgnc3BhbicpOwogIGVsZW1lbnQudGV4dENvbnRlbnQgPSB0ZXh0OwogIGZvciAoY29uc3Qga2V5IG9mIE9iamVjdC5rZXlzKHN0eWxlQXR0cmlidXRlcykpIHsKICAgIGVsZW1lbnQuc3R5bGVba2V5XSA9IHN0eWxlQXR0cmlidXRlc1trZXldOwogIH0KICByZXR1cm4gZWxlbWVudDsKfQoKLy8gTWF4IG51bWJlciBvZiBieXRlcyB3aGljaCB3aWxsIGJlIHVwbG9hZGVkIGF0IGEgdGltZS4KY29uc3QgTUFYX1BBWUxPQURfU0laRSA9IDEwMCAqIDEwMjQ7CgpmdW5jdGlvbiBfdXBsb2FkRmlsZXMoaW5wdXRJZCwgb3V0cHV0SWQpIHsKICBjb25zdCBzdGVwcyA9IHVwbG9hZEZpbGVzU3RlcChpbnB1dElkLCBvdXRwdXRJZCk7CiAgY29uc3Qgb3V0cHV0RWxlbWVudCA9IGRvY3VtZW50LmdldEVsZW1lbnRCeUlkKG91dHB1dElkKTsKICAvLyBDYWNoZSBzdGVwcyBvbiB0aGUgb3V0cHV0RWxlbWVudCB0byBtYWtlIGl0IGF2YWlsYWJsZSBmb3IgdGhlIG5leHQgY2FsbAogIC8vIHRvIHVwbG9hZEZpbGVzQ29udGludWUgZnJvbSBQeXRob24uCiAgb3V0cHV0RWxlbWVudC5zdGVwcyA9IHN0ZXBzOwoKICByZXR1cm4gX3VwbG9hZEZpbGVzQ29udGludWUob3V0cHV0SWQpOwp9CgovLyBUaGlzIGlzIHJvdWdobHkgYW4gYXN5bmMgZ2VuZXJhdG9yIChub3Qgc3VwcG9ydGVkIGluIHRoZSBicm93c2VyIHlldCksCi8vIHdoZXJlIHRoZXJlIGFyZSBtdWx0aXBsZSBhc3luY2hyb25vdXMgc3RlcHMgYW5kIHRoZSBQeXRob24gc2lkZSBpcyBnb2luZwovLyB0byBwb2xsIGZvciBjb21wbGV0aW9uIG9mIGVhY2ggc3RlcC4KLy8gVGhpcyB1c2VzIGEgUHJvbWlzZSB0byBibG9jayB0aGUgcHl0aG9uIHNpZGUgb24gY29tcGxldGlvbiBvZiBlYWNoIHN0ZXAsCi8vIHRoZW4gcGFzc2VzIHRoZSByZXN1bHQgb2YgdGhlIHByZXZpb3VzIHN0ZXAgYXMgdGhlIGlucHV0IHRvIHRoZSBuZXh0IHN0ZXAuCmZ1bmN0aW9uIF91cGxvYWRGaWxlc0NvbnRpbnVlKG91dHB1dElkKSB7CiAgY29uc3Qgb3V0cHV0RWxlbWVudCA9IGRvY3VtZW50LmdldEVsZW1lbnRCeUlkKG91dHB1dElkKTsKICBjb25zdCBzdGVwcyA9IG91dHB1dEVsZW1lbnQuc3RlcHM7CgogIGNvbnN0IG5leHQgPSBzdGVwcy5uZXh0KG91dHB1dEVsZW1lbnQubGFzdFByb21pc2VWYWx1ZSk7CiAgcmV0dXJuIFByb21pc2UucmVzb2x2ZShuZXh0LnZhbHVlLnByb21pc2UpLnRoZW4oKHZhbHVlKSA9PiB7CiAgICAvLyBDYWNoZSB0aGUgbGFzdCBwcm9taXNlIHZhbHVlIHRvIG1ha2UgaXQgYXZhaWxhYmxlIHRvIHRoZSBuZXh0CiAgICAvLyBzdGVwIG9mIHRoZSBnZW5lcmF0b3IuCiAgICBvdXRwdXRFbGVtZW50Lmxhc3RQcm9taXNlVmFsdWUgPSB2YWx1ZTsKICAgIHJldHVybiBuZXh0LnZhbHVlLnJlc3BvbnNlOwogIH0pOwp9CgovKioKICogR2VuZXJhdG9yIGZ1bmN0aW9uIHdoaWNoIGlzIGNhbGxlZCBiZXR3ZWVuIGVhY2ggYXN5bmMgc3RlcCBvZiB0aGUgdXBsb2FkCiAqIHByb2Nlc3MuCiAqIEBwYXJhbSB7c3RyaW5nfSBpbnB1dElkIEVsZW1lbnQgSUQgb2YgdGhlIGlucHV0IGZpbGUgcGlja2VyIGVsZW1lbnQuCiAqIEBwYXJhbSB7c3RyaW5nfSBvdXRwdXRJZCBFbGVtZW50IElEIG9mIHRoZSBvdXRwdXQgZGlzcGxheS4KICogQHJldHVybiB7IUl0ZXJhYmxlPCFPYmplY3Q+fSBJdGVyYWJsZSBvZiBuZXh0IHN0ZXBzLgogKi8KZnVuY3Rpb24qIHVwbG9hZEZpbGVzU3RlcChpbnB1dElkLCBvdXRwdXRJZCkgewogIGNvbnN0IGlucHV0RWxlbWVudCA9IGRvY3VtZW50LmdldEVsZW1lbnRCeUlkKGlucHV0SWQpOwogIGlucHV0RWxlbWVudC5kaXNhYmxlZCA9IGZhbHNlOwoKICBjb25zdCBvdXRwdXRFbGVtZW50ID0gZG9jdW1lbnQuZ2V0RWxlbWVudEJ5SWQob3V0cHV0SWQpOwogIG91dHB1dEVsZW1lbnQuaW5uZXJIVE1MID0gJyc7CgogIGNvbnN0IHBpY2tlZFByb21pc2UgPSBuZXcgUHJvbWlzZSgocmVzb2x2ZSkgPT4gewogICAgaW5wdXRFbGVtZW50LmFkZEV2ZW50TGlzdGVuZXIoJ2NoYW5nZScsIChlKSA9PiB7CiAgICAgIHJlc29sdmUoZS50YXJnZXQuZmlsZXMpOwogICAgfSk7CiAgfSk7CgogIGNvbnN0IGNhbmNlbCA9IGRvY3VtZW50LmNyZWF0ZUVsZW1lbnQoJ2J1dHRvbicpOwogIGlucHV0RWxlbWVudC5wYXJlbnRFbGVtZW50LmFwcGVuZENoaWxkKGNhbmNlbCk7CiAgY2FuY2VsLnRleHRDb250ZW50ID0gJ0NhbmNlbCB1cGxvYWQnOwogIGNvbnN0IGNhbmNlbFByb21pc2UgPSBuZXcgUHJvbWlzZSgocmVzb2x2ZSkgPT4gewogICAgY2FuY2VsLm9uY2xpY2sgPSAoKSA9PiB7CiAgICAgIHJlc29sdmUobnVsbCk7CiAgICB9OwogIH0pOwoKICAvLyBXYWl0IGZvciB0aGUgdXNlciB0byBwaWNrIHRoZSBmaWxlcy4KICBjb25zdCBmaWxlcyA9IHlpZWxkIHsKICAgIHByb21pc2U6IFByb21pc2UucmFjZShbcGlja2VkUHJvbWlzZSwgY2FuY2VsUHJvbWlzZV0pLAogICAgcmVzcG9uc2U6IHsKICAgICAgYWN0aW9uOiAnc3RhcnRpbmcnLAogICAgfQogIH07CgogIGNhbmNlbC5yZW1vdmUoKTsKCiAgLy8gRGlzYWJsZSB0aGUgaW5wdXQgZWxlbWVudCBzaW5jZSBmdXJ0aGVyIHBpY2tzIGFyZSBub3QgYWxsb3dlZC4KICBpbnB1dEVsZW1lbnQuZGlzYWJsZWQgPSB0cnVlOwoKICBpZiAoIWZpbGVzKSB7CiAgICByZXR1cm4gewogICAgICByZXNwb25zZTogewogICAgICAgIGFjdGlvbjogJ2NvbXBsZXRlJywKICAgICAgfQogICAgfTsKICB9CgogIGZvciAoY29uc3QgZmlsZSBvZiBmaWxlcykgewogICAgY29uc3QgbGkgPSBkb2N1bWVudC5jcmVhdGVFbGVtZW50KCdsaScpOwogICAgbGkuYXBwZW5kKHNwYW4oZmlsZS5uYW1lLCB7Zm9udFdlaWdodDogJ2JvbGQnfSkpOwogICAgbGkuYXBwZW5kKHNwYW4oCiAgICAgICAgYCgke2ZpbGUudHlwZSB8fCAnbi9hJ30pIC0gJHtmaWxlLnNpemV9IGJ5dGVzLCBgICsKICAgICAgICBgbGFzdCBtb2RpZmllZDogJHsKICAgICAgICAgICAgZmlsZS5sYXN0TW9kaWZpZWREYXRlID8gZmlsZS5sYXN0TW9kaWZpZWREYXRlLnRvTG9jYWxlRGF0ZVN0cmluZygpIDoKICAgICAgICAgICAgICAgICAgICAgICAgICAgICAgICAgICAgJ24vYSd9IC0gYCkpOwogICAgY29uc3QgcGVyY2VudCA9IHNwYW4oJzAlIGRvbmUnKTsKICAgIGxpLmFwcGVuZENoaWxkKHBlcmNlbnQpOwoKICAgIG91dHB1dEVsZW1lbnQuYXBwZW5kQ2hpbGQobGkpOwoKICAgIGNvbnN0IGZpbGVEYXRhUHJvbWlzZSA9IG5ldyBQcm9taXNlKChyZXNvbHZlKSA9PiB7CiAgICAgIGNvbnN0IHJlYWRlciA9IG5ldyBGaWxlUmVhZGVyKCk7CiAgICAgIHJlYWRlci5vbmxvYWQgPSAoZSkgPT4gewogICAgICAgIHJlc29sdmUoZS50YXJnZXQucmVzdWx0KTsKICAgICAgfTsKICAgICAgcmVhZGVyLnJlYWRBc0FycmF5QnVmZmVyKGZpbGUpOwogICAgfSk7CiAgICAvLyBXYWl0IGZvciB0aGUgZGF0YSB0byBiZSByZWFkeS4KICAgIGxldCBmaWxlRGF0YSA9IHlpZWxkIHsKICAgICAgcHJvbWlzZTogZmlsZURhdGFQcm9taXNlLAogICAgICByZXNwb25zZTogewogICAgICAgIGFjdGlvbjogJ2NvbnRpbnVlJywKICAgICAgfQogICAgfTsKCiAgICAvLyBVc2UgYSBjaHVua2VkIHNlbmRpbmcgdG8gYXZvaWQgbWVzc2FnZSBzaXplIGxpbWl0cy4gU2VlIGIvNjIxMTU2NjAuCiAgICBsZXQgcG9zaXRpb24gPSAwOwogICAgZG8gewogICAgICBjb25zdCBsZW5ndGggPSBNYXRoLm1pbihmaWxlRGF0YS5ieXRlTGVuZ3RoIC0gcG9zaXRpb24sIE1BWF9QQVlMT0FEX1NJWkUpOwogICAgICBjb25zdCBjaHVuayA9IG5ldyBVaW50OEFycmF5KGZpbGVEYXRhLCBwb3NpdGlvbiwgbGVuZ3RoKTsKICAgICAgcG9zaXRpb24gKz0gbGVuZ3RoOwoKICAgICAgY29uc3QgYmFzZTY0ID0gYnRvYShTdHJpbmcuZnJvbUNoYXJDb2RlLmFwcGx5KG51bGwsIGNodW5rKSk7CiAgICAgIHlpZWxkIHsKICAgICAgICByZXNwb25zZTogewogICAgICAgICAgYWN0aW9uOiAnYXBwZW5kJywKICAgICAgICAgIGZpbGU6IGZpbGUubmFtZSwKICAgICAgICAgIGRhdGE6IGJhc2U2NCwKICAgICAgICB9LAogICAgICB9OwoKICAgICAgbGV0IHBlcmNlbnREb25lID0gZmlsZURhdGEuYnl0ZUxlbmd0aCA9PT0gMCA/CiAgICAgICAgICAxMDAgOgogICAgICAgICAgTWF0aC5yb3VuZCgocG9zaXRpb24gLyBmaWxlRGF0YS5ieXRlTGVuZ3RoKSAqIDEwMCk7CiAgICAgIHBlcmNlbnQudGV4dENvbnRlbnQgPSBgJHtwZXJjZW50RG9uZX0lIGRvbmVgOwoKICAgIH0gd2hpbGUgKHBvc2l0aW9uIDwgZmlsZURhdGEuYnl0ZUxlbmd0aCk7CiAgfQoKICAvLyBBbGwgZG9uZS4KICB5aWVsZCB7CiAgICByZXNwb25zZTogewogICAgICBhY3Rpb246ICdjb21wbGV0ZScsCiAgICB9CiAgfTsKfQoKc2NvcGUuZ29vZ2xlID0gc2NvcGUuZ29vZ2xlIHx8IHt9OwpzY29wZS5nb29nbGUuY29sYWIgPSBzY29wZS5nb29nbGUuY29sYWIgfHwge307CnNjb3BlLmdvb2dsZS5jb2xhYi5fZmlsZXMgPSB7CiAgX3VwbG9hZEZpbGVzLAogIF91cGxvYWRGaWxlc0NvbnRpbnVlLAp9Owp9KShzZWxmKTsK",
              "ok": true,
              "headers": [
                [
                  "content-type",
                  "application/javascript"
                ]
              ],
              "status": 200,
              "status_text": ""
            }
          },
          "base_uri": "https://localhost:8080/",
          "height": 73
        },
        "id": "PcuQjxmawOhs",
        "outputId": "356414d3-5722-422e-e9f1-583db9b33963"
      },
      "execution_count": 3,
      "outputs": [
        {
          "output_type": "display_data",
          "data": {
            "text/plain": [
              "<IPython.core.display.HTML object>"
            ],
            "text/html": [
              "\n",
              "     <input type=\"file\" id=\"files-27dac4e0-466a-43f9-ad3f-8b7e8cfecd3f\" name=\"files[]\" multiple disabled\n",
              "        style=\"border:none\" />\n",
              "     <output id=\"result-27dac4e0-466a-43f9-ad3f-8b7e8cfecd3f\">\n",
              "      Upload widget is only available when the cell has been executed in the\n",
              "      current browser session. Please rerun this cell to enable.\n",
              "      </output>\n",
              "      <script src=\"/nbextensions/google.colab/files.js\"></script> "
            ]
          },
          "metadata": {}
        },
        {
          "output_type": "stream",
          "name": "stdout",
          "text": [
            "Saving Varicela.xlsx to Varicela.xlsx\n"
          ]
        }
      ]
    },
    {
      "cell_type": "code",
      "source": [
        "data=pd.read_excel(\"Varicela.xlsx\")"
      ],
      "metadata": {
        "id": "txpjYzeNwcLF"
      },
      "execution_count": 4,
      "outputs": []
    },
    {
      "cell_type": "code",
      "source": [
        "data"
      ],
      "metadata": {
        "colab": {
          "base_uri": "https://localhost:8080/",
          "height": 641
        },
        "id": "wmIBrtmuwjM0",
        "outputId": "c28288cc-95c5-48f6-c2f4-f226949dcf97"
      },
      "execution_count": 5,
      "outputs": [
        {
          "output_type": "execute_result",
          "data": {
            "text/plain": [
              "          Date  BUDAPEST  BARANYA  BACS  BEKES  BORSOD  CSONGRAD  FEJER  GYOR  \\\n",
              "0   2005-01-03       168       79    30    173     169        42    136   120   \n",
              "1   2005-01-10       157       60    30     92     200        53     51    70   \n",
              "2   2005-01-17        96       44    31     86      93        30     93    84   \n",
              "3   2005-01-24       163       49    43    126      46        39     52   114   \n",
              "4   2005-01-31       122       78    53     87     103        34     95   131   \n",
              "..         ...       ...      ...   ...    ...     ...       ...    ...   ...   \n",
              "517 2014-12-01        95       12    41      6      39         0     16    15   \n",
              "518 2014-12-08        43       39    31     10      34         3      2    30   \n",
              "519 2014-12-15        35        7    15      0       0         0      7     7   \n",
              "520 2014-12-22        30       23     8      0      11         4      1     9   \n",
              "521 2014-12-29       259       42    49     32      38        15     11    98   \n",
              "\n",
              "     HAJDU  ...  JASZ  KOMAROM  NOGRAD  PEST  SOMOGY  SZABOLCS  TOLNA  VAS  \\\n",
              "0      162  ...   130       57       2   178      66        64     11   29   \n",
              "1       84  ...    80       50      29   141      48        29     58   53   \n",
              "2      191  ...    64       46       4   157      33        33     24   18   \n",
              "3      107  ...    63       54      14   107      66        50     25   21   \n",
              "4      172  ...    61       49      11   124      63        56      7   47   \n",
              "..     ...  ...   ...      ...     ...   ...     ...       ...    ...  ...   \n",
              "517     14  ...    56        7      13   122       4        23      4   11   \n",
              "518     25  ...    34       20      18    70      36         5     23   22   \n",
              "519      4  ...    30       36       4    72       5        21     14    0   \n",
              "520     10  ...    27       17      21    12       5        17      1    1   \n",
              "521     61  ...   112       61      53   256      45        39     27   11   \n",
              "\n",
              "     VESZPREM  ZALA  \n",
              "0          87    68  \n",
              "1          68    26  \n",
              "2          62    44  \n",
              "3          43    31  \n",
              "4          85    60  \n",
              "..        ...   ...  \n",
              "517       110    10  \n",
              "518        63     9  \n",
              "519        17    10  \n",
              "520        83     2  \n",
              "521       103    25  \n",
              "\n",
              "[522 rows x 21 columns]"
            ],
            "text/html": [
              "\n",
              "  <div id=\"df-40b46e4d-7e84-4da9-92f5-c537d247e21a\">\n",
              "    <div class=\"colab-df-container\">\n",
              "      <div>\n",
              "<style scoped>\n",
              "    .dataframe tbody tr th:only-of-type {\n",
              "        vertical-align: middle;\n",
              "    }\n",
              "\n",
              "    .dataframe tbody tr th {\n",
              "        vertical-align: top;\n",
              "    }\n",
              "\n",
              "    .dataframe thead th {\n",
              "        text-align: right;\n",
              "    }\n",
              "</style>\n",
              "<table border=\"1\" class=\"dataframe\">\n",
              "  <thead>\n",
              "    <tr style=\"text-align: right;\">\n",
              "      <th></th>\n",
              "      <th>Date</th>\n",
              "      <th>BUDAPEST</th>\n",
              "      <th>BARANYA</th>\n",
              "      <th>BACS</th>\n",
              "      <th>BEKES</th>\n",
              "      <th>BORSOD</th>\n",
              "      <th>CSONGRAD</th>\n",
              "      <th>FEJER</th>\n",
              "      <th>GYOR</th>\n",
              "      <th>HAJDU</th>\n",
              "      <th>...</th>\n",
              "      <th>JASZ</th>\n",
              "      <th>KOMAROM</th>\n",
              "      <th>NOGRAD</th>\n",
              "      <th>PEST</th>\n",
              "      <th>SOMOGY</th>\n",
              "      <th>SZABOLCS</th>\n",
              "      <th>TOLNA</th>\n",
              "      <th>VAS</th>\n",
              "      <th>VESZPREM</th>\n",
              "      <th>ZALA</th>\n",
              "    </tr>\n",
              "  </thead>\n",
              "  <tbody>\n",
              "    <tr>\n",
              "      <th>0</th>\n",
              "      <td>2005-01-03</td>\n",
              "      <td>168</td>\n",
              "      <td>79</td>\n",
              "      <td>30</td>\n",
              "      <td>173</td>\n",
              "      <td>169</td>\n",
              "      <td>42</td>\n",
              "      <td>136</td>\n",
              "      <td>120</td>\n",
              "      <td>162</td>\n",
              "      <td>...</td>\n",
              "      <td>130</td>\n",
              "      <td>57</td>\n",
              "      <td>2</td>\n",
              "      <td>178</td>\n",
              "      <td>66</td>\n",
              "      <td>64</td>\n",
              "      <td>11</td>\n",
              "      <td>29</td>\n",
              "      <td>87</td>\n",
              "      <td>68</td>\n",
              "    </tr>\n",
              "    <tr>\n",
              "      <th>1</th>\n",
              "      <td>2005-01-10</td>\n",
              "      <td>157</td>\n",
              "      <td>60</td>\n",
              "      <td>30</td>\n",
              "      <td>92</td>\n",
              "      <td>200</td>\n",
              "      <td>53</td>\n",
              "      <td>51</td>\n",
              "      <td>70</td>\n",
              "      <td>84</td>\n",
              "      <td>...</td>\n",
              "      <td>80</td>\n",
              "      <td>50</td>\n",
              "      <td>29</td>\n",
              "      <td>141</td>\n",
              "      <td>48</td>\n",
              "      <td>29</td>\n",
              "      <td>58</td>\n",
              "      <td>53</td>\n",
              "      <td>68</td>\n",
              "      <td>26</td>\n",
              "    </tr>\n",
              "    <tr>\n",
              "      <th>2</th>\n",
              "      <td>2005-01-17</td>\n",
              "      <td>96</td>\n",
              "      <td>44</td>\n",
              "      <td>31</td>\n",
              "      <td>86</td>\n",
              "      <td>93</td>\n",
              "      <td>30</td>\n",
              "      <td>93</td>\n",
              "      <td>84</td>\n",
              "      <td>191</td>\n",
              "      <td>...</td>\n",
              "      <td>64</td>\n",
              "      <td>46</td>\n",
              "      <td>4</td>\n",
              "      <td>157</td>\n",
              "      <td>33</td>\n",
              "      <td>33</td>\n",
              "      <td>24</td>\n",
              "      <td>18</td>\n",
              "      <td>62</td>\n",
              "      <td>44</td>\n",
              "    </tr>\n",
              "    <tr>\n",
              "      <th>3</th>\n",
              "      <td>2005-01-24</td>\n",
              "      <td>163</td>\n",
              "      <td>49</td>\n",
              "      <td>43</td>\n",
              "      <td>126</td>\n",
              "      <td>46</td>\n",
              "      <td>39</td>\n",
              "      <td>52</td>\n",
              "      <td>114</td>\n",
              "      <td>107</td>\n",
              "      <td>...</td>\n",
              "      <td>63</td>\n",
              "      <td>54</td>\n",
              "      <td>14</td>\n",
              "      <td>107</td>\n",
              "      <td>66</td>\n",
              "      <td>50</td>\n",
              "      <td>25</td>\n",
              "      <td>21</td>\n",
              "      <td>43</td>\n",
              "      <td>31</td>\n",
              "    </tr>\n",
              "    <tr>\n",
              "      <th>4</th>\n",
              "      <td>2005-01-31</td>\n",
              "      <td>122</td>\n",
              "      <td>78</td>\n",
              "      <td>53</td>\n",
              "      <td>87</td>\n",
              "      <td>103</td>\n",
              "      <td>34</td>\n",
              "      <td>95</td>\n",
              "      <td>131</td>\n",
              "      <td>172</td>\n",
              "      <td>...</td>\n",
              "      <td>61</td>\n",
              "      <td>49</td>\n",
              "      <td>11</td>\n",
              "      <td>124</td>\n",
              "      <td>63</td>\n",
              "      <td>56</td>\n",
              "      <td>7</td>\n",
              "      <td>47</td>\n",
              "      <td>85</td>\n",
              "      <td>60</td>\n",
              "    </tr>\n",
              "    <tr>\n",
              "      <th>...</th>\n",
              "      <td>...</td>\n",
              "      <td>...</td>\n",
              "      <td>...</td>\n",
              "      <td>...</td>\n",
              "      <td>...</td>\n",
              "      <td>...</td>\n",
              "      <td>...</td>\n",
              "      <td>...</td>\n",
              "      <td>...</td>\n",
              "      <td>...</td>\n",
              "      <td>...</td>\n",
              "      <td>...</td>\n",
              "      <td>...</td>\n",
              "      <td>...</td>\n",
              "      <td>...</td>\n",
              "      <td>...</td>\n",
              "      <td>...</td>\n",
              "      <td>...</td>\n",
              "      <td>...</td>\n",
              "      <td>...</td>\n",
              "      <td>...</td>\n",
              "    </tr>\n",
              "    <tr>\n",
              "      <th>517</th>\n",
              "      <td>2014-12-01</td>\n",
              "      <td>95</td>\n",
              "      <td>12</td>\n",
              "      <td>41</td>\n",
              "      <td>6</td>\n",
              "      <td>39</td>\n",
              "      <td>0</td>\n",
              "      <td>16</td>\n",
              "      <td>15</td>\n",
              "      <td>14</td>\n",
              "      <td>...</td>\n",
              "      <td>56</td>\n",
              "      <td>7</td>\n",
              "      <td>13</td>\n",
              "      <td>122</td>\n",
              "      <td>4</td>\n",
              "      <td>23</td>\n",
              "      <td>4</td>\n",
              "      <td>11</td>\n",
              "      <td>110</td>\n",
              "      <td>10</td>\n",
              "    </tr>\n",
              "    <tr>\n",
              "      <th>518</th>\n",
              "      <td>2014-12-08</td>\n",
              "      <td>43</td>\n",
              "      <td>39</td>\n",
              "      <td>31</td>\n",
              "      <td>10</td>\n",
              "      <td>34</td>\n",
              "      <td>3</td>\n",
              "      <td>2</td>\n",
              "      <td>30</td>\n",
              "      <td>25</td>\n",
              "      <td>...</td>\n",
              "      <td>34</td>\n",
              "      <td>20</td>\n",
              "      <td>18</td>\n",
              "      <td>70</td>\n",
              "      <td>36</td>\n",
              "      <td>5</td>\n",
              "      <td>23</td>\n",
              "      <td>22</td>\n",
              "      <td>63</td>\n",
              "      <td>9</td>\n",
              "    </tr>\n",
              "    <tr>\n",
              "      <th>519</th>\n",
              "      <td>2014-12-15</td>\n",
              "      <td>35</td>\n",
              "      <td>7</td>\n",
              "      <td>15</td>\n",
              "      <td>0</td>\n",
              "      <td>0</td>\n",
              "      <td>0</td>\n",
              "      <td>7</td>\n",
              "      <td>7</td>\n",
              "      <td>4</td>\n",
              "      <td>...</td>\n",
              "      <td>30</td>\n",
              "      <td>36</td>\n",
              "      <td>4</td>\n",
              "      <td>72</td>\n",
              "      <td>5</td>\n",
              "      <td>21</td>\n",
              "      <td>14</td>\n",
              "      <td>0</td>\n",
              "      <td>17</td>\n",
              "      <td>10</td>\n",
              "    </tr>\n",
              "    <tr>\n",
              "      <th>520</th>\n",
              "      <td>2014-12-22</td>\n",
              "      <td>30</td>\n",
              "      <td>23</td>\n",
              "      <td>8</td>\n",
              "      <td>0</td>\n",
              "      <td>11</td>\n",
              "      <td>4</td>\n",
              "      <td>1</td>\n",
              "      <td>9</td>\n",
              "      <td>10</td>\n",
              "      <td>...</td>\n",
              "      <td>27</td>\n",
              "      <td>17</td>\n",
              "      <td>21</td>\n",
              "      <td>12</td>\n",
              "      <td>5</td>\n",
              "      <td>17</td>\n",
              "      <td>1</td>\n",
              "      <td>1</td>\n",
              "      <td>83</td>\n",
              "      <td>2</td>\n",
              "    </tr>\n",
              "    <tr>\n",
              "      <th>521</th>\n",
              "      <td>2014-12-29</td>\n",
              "      <td>259</td>\n",
              "      <td>42</td>\n",
              "      <td>49</td>\n",
              "      <td>32</td>\n",
              "      <td>38</td>\n",
              "      <td>15</td>\n",
              "      <td>11</td>\n",
              "      <td>98</td>\n",
              "      <td>61</td>\n",
              "      <td>...</td>\n",
              "      <td>112</td>\n",
              "      <td>61</td>\n",
              "      <td>53</td>\n",
              "      <td>256</td>\n",
              "      <td>45</td>\n",
              "      <td>39</td>\n",
              "      <td>27</td>\n",
              "      <td>11</td>\n",
              "      <td>103</td>\n",
              "      <td>25</td>\n",
              "    </tr>\n",
              "  </tbody>\n",
              "</table>\n",
              "<p>522 rows × 21 columns</p>\n",
              "</div>\n",
              "      <button class=\"colab-df-convert\" onclick=\"convertToInteractive('df-40b46e4d-7e84-4da9-92f5-c537d247e21a')\"\n",
              "              title=\"Convert this dataframe to an interactive table.\"\n",
              "              style=\"display:none;\">\n",
              "        \n",
              "  <svg xmlns=\"http://www.w3.org/2000/svg\" height=\"24px\"viewBox=\"0 0 24 24\"\n",
              "       width=\"24px\">\n",
              "    <path d=\"M0 0h24v24H0V0z\" fill=\"none\"/>\n",
              "    <path d=\"M18.56 5.44l.94 2.06.94-2.06 2.06-.94-2.06-.94-.94-2.06-.94 2.06-2.06.94zm-11 1L8.5 8.5l.94-2.06 2.06-.94-2.06-.94L8.5 2.5l-.94 2.06-2.06.94zm10 10l.94 2.06.94-2.06 2.06-.94-2.06-.94-.94-2.06-.94 2.06-2.06.94z\"/><path d=\"M17.41 7.96l-1.37-1.37c-.4-.4-.92-.59-1.43-.59-.52 0-1.04.2-1.43.59L10.3 9.45l-7.72 7.72c-.78.78-.78 2.05 0 2.83L4 21.41c.39.39.9.59 1.41.59.51 0 1.02-.2 1.41-.59l7.78-7.78 2.81-2.81c.8-.78.8-2.07 0-2.86zM5.41 20L4 18.59l7.72-7.72 1.47 1.35L5.41 20z\"/>\n",
              "  </svg>\n",
              "      </button>\n",
              "      \n",
              "  <style>\n",
              "    .colab-df-container {\n",
              "      display:flex;\n",
              "      flex-wrap:wrap;\n",
              "      gap: 12px;\n",
              "    }\n",
              "\n",
              "    .colab-df-convert {\n",
              "      background-color: #E8F0FE;\n",
              "      border: none;\n",
              "      border-radius: 50%;\n",
              "      cursor: pointer;\n",
              "      display: none;\n",
              "      fill: #1967D2;\n",
              "      height: 32px;\n",
              "      padding: 0 0 0 0;\n",
              "      width: 32px;\n",
              "    }\n",
              "\n",
              "    .colab-df-convert:hover {\n",
              "      background-color: #E2EBFA;\n",
              "      box-shadow: 0px 1px 2px rgba(60, 64, 67, 0.3), 0px 1px 3px 1px rgba(60, 64, 67, 0.15);\n",
              "      fill: #174EA6;\n",
              "    }\n",
              "\n",
              "    [theme=dark] .colab-df-convert {\n",
              "      background-color: #3B4455;\n",
              "      fill: #D2E3FC;\n",
              "    }\n",
              "\n",
              "    [theme=dark] .colab-df-convert:hover {\n",
              "      background-color: #434B5C;\n",
              "      box-shadow: 0px 1px 3px 1px rgba(0, 0, 0, 0.15);\n",
              "      filter: drop-shadow(0px 1px 2px rgba(0, 0, 0, 0.3));\n",
              "      fill: #FFFFFF;\n",
              "    }\n",
              "  </style>\n",
              "\n",
              "      <script>\n",
              "        const buttonEl =\n",
              "          document.querySelector('#df-40b46e4d-7e84-4da9-92f5-c537d247e21a button.colab-df-convert');\n",
              "        buttonEl.style.display =\n",
              "          google.colab.kernel.accessAllowed ? 'block' : 'none';\n",
              "\n",
              "        async function convertToInteractive(key) {\n",
              "          const element = document.querySelector('#df-40b46e4d-7e84-4da9-92f5-c537d247e21a');\n",
              "          const dataTable =\n",
              "            await google.colab.kernel.invokeFunction('convertToInteractive',\n",
              "                                                     [key], {});\n",
              "          if (!dataTable) return;\n",
              "\n",
              "          const docLinkHtml = 'Like what you see? Visit the ' +\n",
              "            '<a target=\"_blank\" href=https://colab.research.google.com/notebooks/data_table.ipynb>data table notebook</a>'\n",
              "            + ' to learn more about interactive tables.';\n",
              "          element.innerHTML = '';\n",
              "          dataTable['output_type'] = 'display_data';\n",
              "          await google.colab.output.renderOutput(dataTable, element);\n",
              "          const docLink = document.createElement('div');\n",
              "          docLink.innerHTML = docLinkHtml;\n",
              "          element.appendChild(docLink);\n",
              "        }\n",
              "      </script>\n",
              "    </div>\n",
              "  </div>\n",
              "  "
            ]
          },
          "metadata": {},
          "execution_count": 5
        }
      ]
    },
    {
      "cell_type": "code",
      "source": [
        "data['BUDAPEST'].describe()"
      ],
      "metadata": {
        "colab": {
          "base_uri": "https://localhost:8080/"
        },
        "id": "TUPrmNVdBg5u",
        "outputId": "ff4ee643-cd54-494f-c24e-37d827eaf0c8"
      },
      "execution_count": 31,
      "outputs": [
        {
          "output_type": "execute_result",
          "data": {
            "text/plain": [
              "count    522.000000\n",
              "mean     101.245211\n",
              "std       76.354872\n",
              "min        0.000000\n",
              "25%       34.250000\n",
              "50%       93.000000\n",
              "75%      149.000000\n",
              "max      479.000000\n",
              "Name: BUDAPEST, dtype: float64"
            ]
          },
          "metadata": {},
          "execution_count": 31
        }
      ]
    },
    {
      "cell_type": "code",
      "source": [
        "data['BARANYA'].describe()"
      ],
      "metadata": {
        "colab": {
          "base_uri": "https://localhost:8080/"
        },
        "id": "xLPzUzAIB3iw",
        "outputId": "efe95c64-b47c-44b9-9bfc-730ee01e8ce3"
      },
      "execution_count": 32,
      "outputs": [
        {
          "output_type": "execute_result",
          "data": {
            "text/plain": [
              "count    522.000000\n",
              "mean      34.204981\n",
              "std       32.567222\n",
              "min        0.000000\n",
              "25%        8.000000\n",
              "50%       25.000000\n",
              "75%       51.000000\n",
              "max      194.000000\n",
              "Name: BARANYA, dtype: float64"
            ]
          },
          "metadata": {},
          "execution_count": 32
        }
      ]
    },
    {
      "cell_type": "code",
      "source": [
        "data['BACS'].describe()"
      ],
      "metadata": {
        "colab": {
          "base_uri": "https://localhost:8080/"
        },
        "id": "1CYcdX0FCClM",
        "outputId": "ebda4eab-d335-466c-cab4-71c5063ef697"
      },
      "execution_count": 33,
      "outputs": [
        {
          "output_type": "execute_result",
          "data": {
            "text/plain": [
              "count    522.000000\n",
              "mean      37.166667\n",
              "std       36.843095\n",
              "min        0.000000\n",
              "25%        8.000000\n",
              "50%       29.500000\n",
              "75%       53.000000\n",
              "max      274.000000\n",
              "Name: BACS, dtype: float64"
            ]
          },
          "metadata": {},
          "execution_count": 33
        }
      ]
    },
    {
      "cell_type": "code",
      "source": [
        "data['BEKES'].describe()"
      ],
      "metadata": {
        "colab": {
          "base_uri": "https://localhost:8080/"
        },
        "id": "nZ6_dsEMCJ-A",
        "outputId": "a127cfb8-19f3-4d87-cd46-c212f9d025d6"
      },
      "execution_count": 34,
      "outputs": [
        {
          "output_type": "execute_result",
          "data": {
            "text/plain": [
              "count    522.000000\n",
              "mean      28.911877\n",
              "std       37.618092\n",
              "min        0.000000\n",
              "25%        4.000000\n",
              "50%       14.000000\n",
              "75%       38.750000\n",
              "max      271.000000\n",
              "Name: BEKES, dtype: float64"
            ]
          },
          "metadata": {},
          "execution_count": 34
        }
      ]
    },
    {
      "cell_type": "code",
      "source": [
        "import plotly.express as px"
      ],
      "metadata": {
        "id": "SK0Dnh26wsFF"
      },
      "execution_count": 6,
      "outputs": []
    },
    {
      "cell_type": "code",
      "source": [
        "fig=px.line(data, x=\"Date\", y=data.columns[1:5], color_discrete_map={'BUDAPEST':'greenyellow','BARANYA':'gold','BACS': 'royalblue','BEKES':'magenta' })\n",
        "fig.update_xaxes(title_text='Años')\n",
        "fig.update_yaxes(title_text='Casos Varicela')\n",
        "fig.show()"
      ],
      "metadata": {
        "colab": {
          "base_uri": "https://localhost:8080/",
          "height": 542
        },
        "id": "g970qVVMwulh",
        "outputId": "368bb781-b205-4539-d46a-1b7b4108ba9d"
      },
      "execution_count": 30,
      "outputs": [
        {
          "output_type": "display_data",
          "data": {
            "text/html": [
              "<html>\n",
              "<head><meta charset=\"utf-8\" /></head>\n",
              "<body>\n",
              "    <div>            <script src=\"https://cdnjs.cloudflare.com/ajax/libs/mathjax/2.7.5/MathJax.js?config=TeX-AMS-MML_SVG\"></script><script type=\"text/javascript\">if (window.MathJax) {MathJax.Hub.Config({SVG: {font: \"STIX-Web\"}});}</script>                <script type=\"text/javascript\">window.PlotlyConfig = {MathJaxConfig: 'local'};</script>\n",
              "        <script src=\"https://cdn.plot.ly/plotly-2.8.3.min.js\"></script>                <div id=\"65d22f18-80f8-4c8a-9f53-af27a05ea122\" class=\"plotly-graph-div\" style=\"height:525px; width:100%;\"></div>            <script type=\"text/javascript\">                                    window.PLOTLYENV=window.PLOTLYENV || {};                                    if (document.getElementById(\"65d22f18-80f8-4c8a-9f53-af27a05ea122\")) {                    Plotly.newPlot(                        \"65d22f18-80f8-4c8a-9f53-af27a05ea122\",                        [{\"hovertemplate\":\"variable=BUDAPEST<br>Date=%{x}<br>value=%{y}<extra></extra>\",\"legendgroup\":\"BUDAPEST\",\"line\":{\"color\":\"greenyellow\",\"dash\":\"solid\"},\"marker\":{\"symbol\":\"circle\"},\"mode\":\"lines\",\"name\":\"BUDAPEST\",\"showlegend\":true,\"x\":[\"2005-01-03T00:00:00\",\"2005-01-10T00:00:00\",\"2005-01-17T00:00:00\",\"2005-01-24T00:00:00\",\"2005-01-31T00:00:00\",\"2005-02-07T00:00:00\",\"2005-02-14T00:00:00\",\"2005-02-21T00:00:00\",\"2005-02-28T00:00:00\",\"2005-03-07T00:00:00\",\"2005-03-14T00:00:00\",\"2005-03-21T00:00:00\",\"2005-03-28T00:00:00\",\"2005-04-04T00:00:00\",\"2005-04-11T00:00:00\",\"2005-04-18T00:00:00\",\"2005-04-25T00:00:00\",\"2005-05-02T00:00:00\",\"2005-05-09T00:00:00\",\"2005-05-16T00:00:00\",\"2005-05-23T00:00:00\",\"2005-05-30T00:00:00\",\"2005-06-06T00:00:00\",\"2005-06-13T00:00:00\",\"2005-06-20T00:00:00\",\"2005-06-27T00:00:00\",\"2005-07-04T00:00:00\",\"2005-07-11T00:00:00\",\"2005-07-18T00:00:00\",\"2005-07-25T00:00:00\",\"2005-08-01T00:00:00\",\"2005-08-08T00:00:00\",\"2005-08-15T00:00:00\",\"2005-08-22T00:00:00\",\"2005-08-29T00:00:00\",\"2005-09-05T00:00:00\",\"2005-09-12T00:00:00\",\"2005-09-19T00:00:00\",\"2005-09-26T00:00:00\",\"2005-10-03T00:00:00\",\"2005-10-10T00:00:00\",\"2005-10-17T00:00:00\",\"2005-10-24T00:00:00\",\"2005-10-31T00:00:00\",\"2005-11-07T00:00:00\",\"2005-11-14T00:00:00\",\"2005-11-21T00:00:00\",\"2005-11-28T00:00:00\",\"2005-12-05T00:00:00\",\"2005-12-12T00:00:00\",\"2005-12-19T00:00:00\",\"2005-12-26T00:00:00\",\"2006-01-02T00:00:00\",\"2006-01-09T00:00:00\",\"2006-01-16T00:00:00\",\"2006-01-23T00:00:00\",\"2006-01-30T00:00:00\",\"2006-02-06T00:00:00\",\"2006-02-13T00:00:00\",\"2006-02-20T00:00:00\",\"2006-02-27T00:00:00\",\"2006-03-06T00:00:00\",\"2006-03-13T00:00:00\",\"2006-03-20T00:00:00\",\"2006-03-27T00:00:00\",\"2006-04-03T00:00:00\",\"2006-04-10T00:00:00\",\"2006-04-17T00:00:00\",\"2006-04-24T00:00:00\",\"2006-05-01T00:00:00\",\"2006-05-08T00:00:00\",\"2006-05-15T00:00:00\",\"2006-05-22T00:00:00\",\"2006-05-29T00:00:00\",\"2006-06-05T00:00:00\",\"2006-06-12T00:00:00\",\"2006-06-19T00:00:00\",\"2006-06-26T00:00:00\",\"2006-07-03T00:00:00\",\"2006-07-10T00:00:00\",\"2006-07-17T00:00:00\",\"2006-07-24T00:00:00\",\"2006-07-31T00:00:00\",\"2006-08-07T00:00:00\",\"2006-08-14T00:00:00\",\"2006-08-21T00:00:00\",\"2006-08-28T00:00:00\",\"2006-09-04T00:00:00\",\"2006-09-11T00:00:00\",\"2006-09-18T00:00:00\",\"2006-09-25T00:00:00\",\"2006-10-02T00:00:00\",\"2006-10-09T00:00:00\",\"2006-10-16T00:00:00\",\"2006-10-23T00:00:00\",\"2006-10-30T00:00:00\",\"2006-11-06T00:00:00\",\"2006-11-13T00:00:00\",\"2006-11-20T00:00:00\",\"2006-11-27T00:00:00\",\"2006-12-04T00:00:00\",\"2006-12-11T00:00:00\",\"2006-12-18T00:00:00\",\"2006-12-25T00:00:00\",\"2007-01-01T00:00:00\",\"2007-01-08T00:00:00\",\"2007-01-15T00:00:00\",\"2007-01-22T00:00:00\",\"2007-01-29T00:00:00\",\"2007-02-05T00:00:00\",\"2007-02-12T00:00:00\",\"2007-02-19T00:00:00\",\"2007-02-26T00:00:00\",\"2007-03-05T00:00:00\",\"2007-03-12T00:00:00\",\"2007-03-19T00:00:00\",\"2007-03-26T00:00:00\",\"2007-04-02T00:00:00\",\"2007-04-09T00:00:00\",\"2007-04-16T00:00:00\",\"2007-04-23T00:00:00\",\"2007-04-30T00:00:00\",\"2007-05-07T00:00:00\",\"2007-05-14T00:00:00\",\"2007-05-21T00:00:00\",\"2007-05-28T00:00:00\",\"2007-06-04T00:00:00\",\"2007-06-11T00:00:00\",\"2007-06-18T00:00:00\",\"2007-06-25T00:00:00\",\"2007-07-02T00:00:00\",\"2007-07-09T00:00:00\",\"2007-07-16T00:00:00\",\"2007-07-23T00:00:00\",\"2007-07-30T00:00:00\",\"2007-08-06T00:00:00\",\"2007-08-13T00:00:00\",\"2007-08-20T00:00:00\",\"2007-08-27T00:00:00\",\"2007-09-03T00:00:00\",\"2007-09-10T00:00:00\",\"2007-09-17T00:00:00\",\"2007-09-24T00:00:00\",\"2007-10-01T00:00:00\",\"2007-10-08T00:00:00\",\"2007-10-15T00:00:00\",\"2007-10-22T00:00:00\",\"2007-10-29T00:00:00\",\"2007-11-05T00:00:00\",\"2007-11-12T00:00:00\",\"2007-11-19T00:00:00\",\"2007-11-26T00:00:00\",\"2007-12-03T00:00:00\",\"2007-12-10T00:00:00\",\"2007-12-17T00:00:00\",\"2007-12-24T00:00:00\",\"2007-12-31T00:00:00\",\"2008-01-07T00:00:00\",\"2008-01-14T00:00:00\",\"2008-01-21T00:00:00\",\"2008-01-28T00:00:00\",\"2008-02-04T00:00:00\",\"2008-02-11T00:00:00\",\"2008-02-18T00:00:00\",\"2008-02-25T00:00:00\",\"2008-03-03T00:00:00\",\"2008-03-10T00:00:00\",\"2008-03-17T00:00:00\",\"2008-03-24T00:00:00\",\"2008-03-31T00:00:00\",\"2008-04-07T00:00:00\",\"2008-04-14T00:00:00\",\"2008-04-21T00:00:00\",\"2008-04-28T00:00:00\",\"2008-05-05T00:00:00\",\"2008-05-12T00:00:00\",\"2008-05-19T00:00:00\",\"2008-05-26T00:00:00\",\"2008-06-02T00:00:00\",\"2008-06-09T00:00:00\",\"2008-06-16T00:00:00\",\"2008-06-23T00:00:00\",\"2008-06-30T00:00:00\",\"2008-07-07T00:00:00\",\"2008-07-14T00:00:00\",\"2008-07-21T00:00:00\",\"2008-07-28T00:00:00\",\"2008-08-04T00:00:00\",\"2008-08-11T00:00:00\",\"2008-08-18T00:00:00\",\"2008-08-25T00:00:00\",\"2008-09-01T00:00:00\",\"2008-09-08T00:00:00\",\"2008-09-15T00:00:00\",\"2008-09-22T00:00:00\",\"2008-09-29T00:00:00\",\"2008-10-06T00:00:00\",\"2008-10-13T00:00:00\",\"2008-10-20T00:00:00\",\"2008-10-27T00:00:00\",\"2008-11-03T00:00:00\",\"2008-11-10T00:00:00\",\"2008-11-17T00:00:00\",\"2008-11-24T00:00:00\",\"2008-12-01T00:00:00\",\"2008-12-08T00:00:00\",\"2008-12-15T00:00:00\",\"2008-12-22T00:00:00\",\"2008-12-29T00:00:00\",\"2009-01-05T00:00:00\",\"2009-01-12T00:00:00\",\"2009-01-19T00:00:00\",\"2009-01-26T00:00:00\",\"2009-02-02T00:00:00\",\"2009-02-09T00:00:00\",\"2009-02-16T00:00:00\",\"2009-02-23T00:00:00\",\"2009-03-02T00:00:00\",\"2009-03-09T00:00:00\",\"2009-03-16T00:00:00\",\"2009-03-23T00:00:00\",\"2009-03-30T00:00:00\",\"2009-04-06T00:00:00\",\"2009-04-13T00:00:00\",\"2009-04-20T00:00:00\",\"2009-04-27T00:00:00\",\"2009-05-04T00:00:00\",\"2009-05-11T00:00:00\",\"2009-05-18T00:00:00\",\"2009-05-25T00:00:00\",\"2009-06-01T00:00:00\",\"2009-06-08T00:00:00\",\"2009-06-15T00:00:00\",\"2009-06-22T00:00:00\",\"2009-06-29T00:00:00\",\"2009-07-06T00:00:00\",\"2009-07-13T00:00:00\",\"2009-07-20T00:00:00\",\"2009-07-27T00:00:00\",\"2009-08-03T00:00:00\",\"2009-08-10T00:00:00\",\"2009-08-17T00:00:00\",\"2009-08-24T00:00:00\",\"2009-08-31T00:00:00\",\"2009-09-07T00:00:00\",\"2009-09-14T00:00:00\",\"2009-09-21T00:00:00\",\"2009-09-28T00:00:00\",\"2009-10-05T00:00:00\",\"2009-10-12T00:00:00\",\"2009-10-19T00:00:00\",\"2009-10-26T00:00:00\",\"2009-11-02T00:00:00\",\"2009-11-09T00:00:00\",\"2009-11-16T00:00:00\",\"2009-11-23T00:00:00\",\"2009-11-30T00:00:00\",\"2009-12-07T00:00:00\",\"2009-12-14T00:00:00\",\"2009-12-21T00:00:00\",\"2009-12-28T00:00:00\",\"2010-01-04T00:00:00\",\"2010-01-11T00:00:00\",\"2010-01-18T00:00:00\",\"2010-01-25T00:00:00\",\"2010-02-01T00:00:00\",\"2010-02-08T00:00:00\",\"2010-02-15T00:00:00\",\"2010-02-22T00:00:00\",\"2010-03-01T00:00:00\",\"2010-03-08T00:00:00\",\"2010-03-15T00:00:00\",\"2010-03-22T00:00:00\",\"2010-03-29T00:00:00\",\"2010-04-05T00:00:00\",\"2010-04-12T00:00:00\",\"2010-04-19T00:00:00\",\"2010-04-26T00:00:00\",\"2010-05-03T00:00:00\",\"2010-05-10T00:00:00\",\"2010-05-17T00:00:00\",\"2010-05-24T00:00:00\",\"2010-05-31T00:00:00\",\"2010-06-07T00:00:00\",\"2010-06-14T00:00:00\",\"2010-06-21T00:00:00\",\"2010-06-28T00:00:00\",\"2010-07-05T00:00:00\",\"2010-07-12T00:00:00\",\"2010-07-19T00:00:00\",\"2010-07-26T00:00:00\",\"2010-08-02T00:00:00\",\"2010-08-09T00:00:00\",\"2010-08-16T00:00:00\",\"2010-08-23T00:00:00\",\"2010-08-30T00:00:00\",\"2010-09-06T00:00:00\",\"2010-09-13T00:00:00\",\"2010-09-20T00:00:00\",\"2010-09-27T00:00:00\",\"2010-10-04T00:00:00\",\"2010-10-11T00:00:00\",\"2010-10-18T00:00:00\",\"2010-10-25T00:00:00\",\"2010-11-01T00:00:00\",\"2010-11-08T00:00:00\",\"2010-11-15T00:00:00\",\"2010-11-22T00:00:00\",\"2010-11-29T00:00:00\",\"2010-12-06T00:00:00\",\"2010-12-13T00:00:00\",\"2010-12-20T00:00:00\",\"2010-12-27T00:00:00\",\"2011-01-03T00:00:00\",\"2011-01-10T00:00:00\",\"2011-01-17T00:00:00\",\"2011-01-24T00:00:00\",\"2011-01-31T00:00:00\",\"2011-02-07T00:00:00\",\"2011-02-14T00:00:00\",\"2011-02-21T00:00:00\",\"2011-02-28T00:00:00\",\"2011-03-07T00:00:00\",\"2011-03-14T00:00:00\",\"2011-03-21T00:00:00\",\"2011-03-28T00:00:00\",\"2011-04-04T00:00:00\",\"2011-04-11T00:00:00\",\"2011-04-18T00:00:00\",\"2011-04-25T00:00:00\",\"2011-05-02T00:00:00\",\"2011-05-09T00:00:00\",\"2011-05-16T00:00:00\",\"2011-05-23T00:00:00\",\"2011-05-30T00:00:00\",\"2011-06-06T00:00:00\",\"2011-06-13T00:00:00\",\"2011-06-20T00:00:00\",\"2011-06-27T00:00:00\",\"2011-07-04T00:00:00\",\"2011-07-11T00:00:00\",\"2011-07-18T00:00:00\",\"2011-07-25T00:00:00\",\"2011-08-01T00:00:00\",\"2011-08-08T00:00:00\",\"2011-08-15T00:00:00\",\"2011-08-22T00:00:00\",\"2011-08-29T00:00:00\",\"2011-09-05T00:00:00\",\"2011-09-12T00:00:00\",\"2011-09-19T00:00:00\",\"2011-09-26T00:00:00\",\"2011-10-03T00:00:00\",\"2011-10-10T00:00:00\",\"2011-10-17T00:00:00\",\"2011-10-24T00:00:00\",\"2011-10-31T00:00:00\",\"2011-11-07T00:00:00\",\"2011-11-14T00:00:00\",\"2011-11-21T00:00:00\",\"2011-11-28T00:00:00\",\"2011-12-05T00:00:00\",\"2011-12-12T00:00:00\",\"2011-12-19T00:00:00\",\"2011-12-26T00:00:00\",\"2012-01-02T00:00:00\",\"2012-01-09T00:00:00\",\"2012-01-16T00:00:00\",\"2012-01-23T00:00:00\",\"2012-01-30T00:00:00\",\"2012-02-06T00:00:00\",\"2012-02-13T00:00:00\",\"2012-02-20T00:00:00\",\"2012-02-27T00:00:00\",\"2012-03-05T00:00:00\",\"2012-03-12T00:00:00\",\"2012-03-19T00:00:00\",\"2012-03-26T00:00:00\",\"2012-04-02T00:00:00\",\"2012-04-09T00:00:00\",\"2012-04-16T00:00:00\",\"2012-04-23T00:00:00\",\"2012-04-30T00:00:00\",\"2012-05-07T00:00:00\",\"2012-05-14T00:00:00\",\"2012-05-21T00:00:00\",\"2012-05-28T00:00:00\",\"2012-06-04T00:00:00\",\"2012-06-11T00:00:00\",\"2012-06-18T00:00:00\",\"2012-06-25T00:00:00\",\"2012-07-02T00:00:00\",\"2012-07-09T00:00:00\",\"2012-07-16T00:00:00\",\"2012-07-23T00:00:00\",\"2012-07-30T00:00:00\",\"2012-08-06T00:00:00\",\"2012-08-13T00:00:00\",\"2012-08-20T00:00:00\",\"2012-08-27T00:00:00\",\"2012-09-03T00:00:00\",\"2012-09-10T00:00:00\",\"2012-09-17T00:00:00\",\"2012-09-24T00:00:00\",\"2012-10-01T00:00:00\",\"2012-10-08T00:00:00\",\"2012-10-15T00:00:00\",\"2012-10-22T00:00:00\",\"2012-10-29T00:00:00\",\"2012-11-05T00:00:00\",\"2012-11-12T00:00:00\",\"2012-11-19T00:00:00\",\"2012-11-26T00:00:00\",\"2012-12-03T00:00:00\",\"2012-12-10T00:00:00\",\"2012-12-17T00:00:00\",\"2012-12-24T00:00:00\",\"2012-12-31T00:00:00\",\"2013-01-07T00:00:00\",\"2013-01-14T00:00:00\",\"2013-01-21T00:00:00\",\"2013-01-28T00:00:00\",\"2013-02-04T00:00:00\",\"2013-02-11T00:00:00\",\"2013-02-18T00:00:00\",\"2013-02-25T00:00:00\",\"2013-03-04T00:00:00\",\"2013-03-11T00:00:00\",\"2013-03-18T00:00:00\",\"2013-03-25T00:00:00\",\"2013-04-01T00:00:00\",\"2013-04-08T00:00:00\",\"2013-04-15T00:00:00\",\"2013-04-22T00:00:00\",\"2013-04-29T00:00:00\",\"2013-05-06T00:00:00\",\"2013-05-13T00:00:00\",\"2013-05-20T00:00:00\",\"2013-05-27T00:00:00\",\"2013-06-03T00:00:00\",\"2013-06-10T00:00:00\",\"2013-06-17T00:00:00\",\"2013-06-24T00:00:00\",\"2013-07-01T00:00:00\",\"2013-07-08T00:00:00\",\"2013-07-15T00:00:00\",\"2013-07-22T00:00:00\",\"2013-07-29T00:00:00\",\"2013-08-05T00:00:00\",\"2013-08-12T00:00:00\",\"2013-08-19T00:00:00\",\"2013-08-26T00:00:00\",\"2013-09-02T00:00:00\",\"2013-09-09T00:00:00\",\"2013-09-16T00:00:00\",\"2013-09-23T00:00:00\",\"2013-09-30T00:00:00\",\"2013-10-07T00:00:00\",\"2013-10-14T00:00:00\",\"2013-10-21T00:00:00\",\"2013-10-28T00:00:00\",\"2013-11-04T00:00:00\",\"2013-11-11T00:00:00\",\"2013-11-18T00:00:00\",\"2013-11-25T00:00:00\",\"2013-12-02T00:00:00\",\"2013-12-09T00:00:00\",\"2013-12-16T00:00:00\",\"2013-12-23T00:00:00\",\"2013-12-30T00:00:00\",\"2014-01-06T00:00:00\",\"2014-01-13T00:00:00\",\"2014-01-20T00:00:00\",\"2014-01-27T00:00:00\",\"2014-02-03T00:00:00\",\"2014-02-10T00:00:00\",\"2014-02-17T00:00:00\",\"2014-02-24T00:00:00\",\"2014-03-03T00:00:00\",\"2014-03-10T00:00:00\",\"2014-03-17T00:00:00\",\"2014-03-24T00:00:00\",\"2014-03-31T00:00:00\",\"2014-04-07T00:00:00\",\"2014-04-14T00:00:00\",\"2014-04-21T00:00:00\",\"2014-04-28T00:00:00\",\"2014-05-05T00:00:00\",\"2014-05-12T00:00:00\",\"2014-05-19T00:00:00\",\"2014-05-26T00:00:00\",\"2014-06-02T00:00:00\",\"2014-06-09T00:00:00\",\"2014-06-16T00:00:00\",\"2014-06-23T00:00:00\",\"2014-06-30T00:00:00\",\"2014-07-07T00:00:00\",\"2014-07-14T00:00:00\",\"2014-07-21T00:00:00\",\"2014-07-28T00:00:00\",\"2014-08-04T00:00:00\",\"2014-08-11T00:00:00\",\"2014-08-18T00:00:00\",\"2014-08-25T00:00:00\",\"2014-09-01T00:00:00\",\"2014-09-08T00:00:00\",\"2014-09-15T00:00:00\",\"2014-09-22T00:00:00\",\"2014-09-29T00:00:00\",\"2014-10-06T00:00:00\",\"2014-10-13T00:00:00\",\"2014-10-20T00:00:00\",\"2014-10-27T00:00:00\",\"2014-11-03T00:00:00\",\"2014-11-10T00:00:00\",\"2014-11-17T00:00:00\",\"2014-11-24T00:00:00\",\"2014-12-01T00:00:00\",\"2014-12-08T00:00:00\",\"2014-12-15T00:00:00\",\"2014-12-22T00:00:00\",\"2014-12-29T00:00:00\"],\"xaxis\":\"x\",\"y\":[168,157,96,163,122,174,153,115,119,114,127,135,116,132,129,113,114,98,140,120,173,135,143,139,155,98,87,110,70,43,37,30,21,22,15,11,7,12,5,17,11,27,23,30,48,37,32,49,67,106,83,114,129,189,79,163,110,158,182,136,207,251,141,193,169,141,193,359,268,168,338,186,266,240,162,264,133,201,236,111,76,52,30,30,74,45,41,20,15,11,10,9,35,20,19,51,53,77,62,93,78,82,84,58,114,145,93,129,114,86,127,106,211,229,145,210,267,166,168,350,224,136,278,161,385,230,284,210,125,104,140,99,35,14,34,7,7,4,4,10,6,6,12,20,14,33,20,25,93,72,54,175,126,60,193,68,183,156,479,143,193,105,136,91,150,82,64,100,95,136,80,122,117,84,133,62,211,143,128,105,140,51,70,46,17,21,51,22,11,3,10,4,3,9,14,12,22,43,27,67,78,61,62,40,98,110,142,53,39,304,300,115,176,176,157,188,128,165,129,197,129,217,109,212,265,149,143,165,198,197,211,177,168,110,65,104,85,54,18,16,14,7,27,16,11,2,4,7,15,30,31,25,50,37,59,58,42,91,86,41,47,166,113,62,82,56,46,48,124,74,116,120,101,121,160,199,147,130,175,156,185,123,151,150,169,154,68,93,74,56,35,24,11,35,11,22,8,5,23,27,33,74,57,95,73,171,206,144,155,191,125,157,121,59,333,145,208,174,128,190,228,149,181,131,227,158,168,181,138,129,161,121,128,150,146,115,120,140,73,91,71,61,19,16,11,17,14,13,22,42,4,18,6,10,60,103,31,103,44,91,83,111,91,163,28,106,291,185,197,147,192,190,147,131,149,99,233,146,182,68,180,142,80,194,286,129,93,199,120,151,88,87,67,52,65,6,64,18,3,0,13,9,4,8,12,13,31,35,8,73,77,21,104,105,92,192,2,67,283,135,129,203,152,107,185,110,138,100,228,130,137,235,138,166,122,149,124,187,195,130,126,154,149,106,151,100,91,46,38,13,22,33,9,14,48,7,18,6,21,30,21,79,64,55,18,101,63,59,6,26,150,80,82,58,84,59,60,116,99,112,197,116,215,82,155,80,13,70,391,178,124,235,88,187,140,111,72,75,44,40,37,10,6,7,5,10,11,16,20,17,21,34,28,44,33,85,16,95,43,35,30,259],\"yaxis\":\"y\",\"type\":\"scattergl\"},{\"hovertemplate\":\"variable=BARANYA<br>Date=%{x}<br>value=%{y}<extra></extra>\",\"legendgroup\":\"BARANYA\",\"line\":{\"color\":\"gold\",\"dash\":\"solid\"},\"marker\":{\"symbol\":\"circle\"},\"mode\":\"lines\",\"name\":\"BARANYA\",\"showlegend\":true,\"x\":[\"2005-01-03T00:00:00\",\"2005-01-10T00:00:00\",\"2005-01-17T00:00:00\",\"2005-01-24T00:00:00\",\"2005-01-31T00:00:00\",\"2005-02-07T00:00:00\",\"2005-02-14T00:00:00\",\"2005-02-21T00:00:00\",\"2005-02-28T00:00:00\",\"2005-03-07T00:00:00\",\"2005-03-14T00:00:00\",\"2005-03-21T00:00:00\",\"2005-03-28T00:00:00\",\"2005-04-04T00:00:00\",\"2005-04-11T00:00:00\",\"2005-04-18T00:00:00\",\"2005-04-25T00:00:00\",\"2005-05-02T00:00:00\",\"2005-05-09T00:00:00\",\"2005-05-16T00:00:00\",\"2005-05-23T00:00:00\",\"2005-05-30T00:00:00\",\"2005-06-06T00:00:00\",\"2005-06-13T00:00:00\",\"2005-06-20T00:00:00\",\"2005-06-27T00:00:00\",\"2005-07-04T00:00:00\",\"2005-07-11T00:00:00\",\"2005-07-18T00:00:00\",\"2005-07-25T00:00:00\",\"2005-08-01T00:00:00\",\"2005-08-08T00:00:00\",\"2005-08-15T00:00:00\",\"2005-08-22T00:00:00\",\"2005-08-29T00:00:00\",\"2005-09-05T00:00:00\",\"2005-09-12T00:00:00\",\"2005-09-19T00:00:00\",\"2005-09-26T00:00:00\",\"2005-10-03T00:00:00\",\"2005-10-10T00:00:00\",\"2005-10-17T00:00:00\",\"2005-10-24T00:00:00\",\"2005-10-31T00:00:00\",\"2005-11-07T00:00:00\",\"2005-11-14T00:00:00\",\"2005-11-21T00:00:00\",\"2005-11-28T00:00:00\",\"2005-12-05T00:00:00\",\"2005-12-12T00:00:00\",\"2005-12-19T00:00:00\",\"2005-12-26T00:00:00\",\"2006-01-02T00:00:00\",\"2006-01-09T00:00:00\",\"2006-01-16T00:00:00\",\"2006-01-23T00:00:00\",\"2006-01-30T00:00:00\",\"2006-02-06T00:00:00\",\"2006-02-13T00:00:00\",\"2006-02-20T00:00:00\",\"2006-02-27T00:00:00\",\"2006-03-06T00:00:00\",\"2006-03-13T00:00:00\",\"2006-03-20T00:00:00\",\"2006-03-27T00:00:00\",\"2006-04-03T00:00:00\",\"2006-04-10T00:00:00\",\"2006-04-17T00:00:00\",\"2006-04-24T00:00:00\",\"2006-05-01T00:00:00\",\"2006-05-08T00:00:00\",\"2006-05-15T00:00:00\",\"2006-05-22T00:00:00\",\"2006-05-29T00:00:00\",\"2006-06-05T00:00:00\",\"2006-06-12T00:00:00\",\"2006-06-19T00:00:00\",\"2006-06-26T00:00:00\",\"2006-07-03T00:00:00\",\"2006-07-10T00:00:00\",\"2006-07-17T00:00:00\",\"2006-07-24T00:00:00\",\"2006-07-31T00:00:00\",\"2006-08-07T00:00:00\",\"2006-08-14T00:00:00\",\"2006-08-21T00:00:00\",\"2006-08-28T00:00:00\",\"2006-09-04T00:00:00\",\"2006-09-11T00:00:00\",\"2006-09-18T00:00:00\",\"2006-09-25T00:00:00\",\"2006-10-02T00:00:00\",\"2006-10-09T00:00:00\",\"2006-10-16T00:00:00\",\"2006-10-23T00:00:00\",\"2006-10-30T00:00:00\",\"2006-11-06T00:00:00\",\"2006-11-13T00:00:00\",\"2006-11-20T00:00:00\",\"2006-11-27T00:00:00\",\"2006-12-04T00:00:00\",\"2006-12-11T00:00:00\",\"2006-12-18T00:00:00\",\"2006-12-25T00:00:00\",\"2007-01-01T00:00:00\",\"2007-01-08T00:00:00\",\"2007-01-15T00:00:00\",\"2007-01-22T00:00:00\",\"2007-01-29T00:00:00\",\"2007-02-05T00:00:00\",\"2007-02-12T00:00:00\",\"2007-02-19T00:00:00\",\"2007-02-26T00:00:00\",\"2007-03-05T00:00:00\",\"2007-03-12T00:00:00\",\"2007-03-19T00:00:00\",\"2007-03-26T00:00:00\",\"2007-04-02T00:00:00\",\"2007-04-09T00:00:00\",\"2007-04-16T00:00:00\",\"2007-04-23T00:00:00\",\"2007-04-30T00:00:00\",\"2007-05-07T00:00:00\",\"2007-05-14T00:00:00\",\"2007-05-21T00:00:00\",\"2007-05-28T00:00:00\",\"2007-06-04T00:00:00\",\"2007-06-11T00:00:00\",\"2007-06-18T00:00:00\",\"2007-06-25T00:00:00\",\"2007-07-02T00:00:00\",\"2007-07-09T00:00:00\",\"2007-07-16T00:00:00\",\"2007-07-23T00:00:00\",\"2007-07-30T00:00:00\",\"2007-08-06T00:00:00\",\"2007-08-13T00:00:00\",\"2007-08-20T00:00:00\",\"2007-08-27T00:00:00\",\"2007-09-03T00:00:00\",\"2007-09-10T00:00:00\",\"2007-09-17T00:00:00\",\"2007-09-24T00:00:00\",\"2007-10-01T00:00:00\",\"2007-10-08T00:00:00\",\"2007-10-15T00:00:00\",\"2007-10-22T00:00:00\",\"2007-10-29T00:00:00\",\"2007-11-05T00:00:00\",\"2007-11-12T00:00:00\",\"2007-11-19T00:00:00\",\"2007-11-26T00:00:00\",\"2007-12-03T00:00:00\",\"2007-12-10T00:00:00\",\"2007-12-17T00:00:00\",\"2007-12-24T00:00:00\",\"2007-12-31T00:00:00\",\"2008-01-07T00:00:00\",\"2008-01-14T00:00:00\",\"2008-01-21T00:00:00\",\"2008-01-28T00:00:00\",\"2008-02-04T00:00:00\",\"2008-02-11T00:00:00\",\"2008-02-18T00:00:00\",\"2008-02-25T00:00:00\",\"2008-03-03T00:00:00\",\"2008-03-10T00:00:00\",\"2008-03-17T00:00:00\",\"2008-03-24T00:00:00\",\"2008-03-31T00:00:00\",\"2008-04-07T00:00:00\",\"2008-04-14T00:00:00\",\"2008-04-21T00:00:00\",\"2008-04-28T00:00:00\",\"2008-05-05T00:00:00\",\"2008-05-12T00:00:00\",\"2008-05-19T00:00:00\",\"2008-05-26T00:00:00\",\"2008-06-02T00:00:00\",\"2008-06-09T00:00:00\",\"2008-06-16T00:00:00\",\"2008-06-23T00:00:00\",\"2008-06-30T00:00:00\",\"2008-07-07T00:00:00\",\"2008-07-14T00:00:00\",\"2008-07-21T00:00:00\",\"2008-07-28T00:00:00\",\"2008-08-04T00:00:00\",\"2008-08-11T00:00:00\",\"2008-08-18T00:00:00\",\"2008-08-25T00:00:00\",\"2008-09-01T00:00:00\",\"2008-09-08T00:00:00\",\"2008-09-15T00:00:00\",\"2008-09-22T00:00:00\",\"2008-09-29T00:00:00\",\"2008-10-06T00:00:00\",\"2008-10-13T00:00:00\",\"2008-10-20T00:00:00\",\"2008-10-27T00:00:00\",\"2008-11-03T00:00:00\",\"2008-11-10T00:00:00\",\"2008-11-17T00:00:00\",\"2008-11-24T00:00:00\",\"2008-12-01T00:00:00\",\"2008-12-08T00:00:00\",\"2008-12-15T00:00:00\",\"2008-12-22T00:00:00\",\"2008-12-29T00:00:00\",\"2009-01-05T00:00:00\",\"2009-01-12T00:00:00\",\"2009-01-19T00:00:00\",\"2009-01-26T00:00:00\",\"2009-02-02T00:00:00\",\"2009-02-09T00:00:00\",\"2009-02-16T00:00:00\",\"2009-02-23T00:00:00\",\"2009-03-02T00:00:00\",\"2009-03-09T00:00:00\",\"2009-03-16T00:00:00\",\"2009-03-23T00:00:00\",\"2009-03-30T00:00:00\",\"2009-04-06T00:00:00\",\"2009-04-13T00:00:00\",\"2009-04-20T00:00:00\",\"2009-04-27T00:00:00\",\"2009-05-04T00:00:00\",\"2009-05-11T00:00:00\",\"2009-05-18T00:00:00\",\"2009-05-25T00:00:00\",\"2009-06-01T00:00:00\",\"2009-06-08T00:00:00\",\"2009-06-15T00:00:00\",\"2009-06-22T00:00:00\",\"2009-06-29T00:00:00\",\"2009-07-06T00:00:00\",\"2009-07-13T00:00:00\",\"2009-07-20T00:00:00\",\"2009-07-27T00:00:00\",\"2009-08-03T00:00:00\",\"2009-08-10T00:00:00\",\"2009-08-17T00:00:00\",\"2009-08-24T00:00:00\",\"2009-08-31T00:00:00\",\"2009-09-07T00:00:00\",\"2009-09-14T00:00:00\",\"2009-09-21T00:00:00\",\"2009-09-28T00:00:00\",\"2009-10-05T00:00:00\",\"2009-10-12T00:00:00\",\"2009-10-19T00:00:00\",\"2009-10-26T00:00:00\",\"2009-11-02T00:00:00\",\"2009-11-09T00:00:00\",\"2009-11-16T00:00:00\",\"2009-11-23T00:00:00\",\"2009-11-30T00:00:00\",\"2009-12-07T00:00:00\",\"2009-12-14T00:00:00\",\"2009-12-21T00:00:00\",\"2009-12-28T00:00:00\",\"2010-01-04T00:00:00\",\"2010-01-11T00:00:00\",\"2010-01-18T00:00:00\",\"2010-01-25T00:00:00\",\"2010-02-01T00:00:00\",\"2010-02-08T00:00:00\",\"2010-02-15T00:00:00\",\"2010-02-22T00:00:00\",\"2010-03-01T00:00:00\",\"2010-03-08T00:00:00\",\"2010-03-15T00:00:00\",\"2010-03-22T00:00:00\",\"2010-03-29T00:00:00\",\"2010-04-05T00:00:00\",\"2010-04-12T00:00:00\",\"2010-04-19T00:00:00\",\"2010-04-26T00:00:00\",\"2010-05-03T00:00:00\",\"2010-05-10T00:00:00\",\"2010-05-17T00:00:00\",\"2010-05-24T00:00:00\",\"2010-05-31T00:00:00\",\"2010-06-07T00:00:00\",\"2010-06-14T00:00:00\",\"2010-06-21T00:00:00\",\"2010-06-28T00:00:00\",\"2010-07-05T00:00:00\",\"2010-07-12T00:00:00\",\"2010-07-19T00:00:00\",\"2010-07-26T00:00:00\",\"2010-08-02T00:00:00\",\"2010-08-09T00:00:00\",\"2010-08-16T00:00:00\",\"2010-08-23T00:00:00\",\"2010-08-30T00:00:00\",\"2010-09-06T00:00:00\",\"2010-09-13T00:00:00\",\"2010-09-20T00:00:00\",\"2010-09-27T00:00:00\",\"2010-10-04T00:00:00\",\"2010-10-11T00:00:00\",\"2010-10-18T00:00:00\",\"2010-10-25T00:00:00\",\"2010-11-01T00:00:00\",\"2010-11-08T00:00:00\",\"2010-11-15T00:00:00\",\"2010-11-22T00:00:00\",\"2010-11-29T00:00:00\",\"2010-12-06T00:00:00\",\"2010-12-13T00:00:00\",\"2010-12-20T00:00:00\",\"2010-12-27T00:00:00\",\"2011-01-03T00:00:00\",\"2011-01-10T00:00:00\",\"2011-01-17T00:00:00\",\"2011-01-24T00:00:00\",\"2011-01-31T00:00:00\",\"2011-02-07T00:00:00\",\"2011-02-14T00:00:00\",\"2011-02-21T00:00:00\",\"2011-02-28T00:00:00\",\"2011-03-07T00:00:00\",\"2011-03-14T00:00:00\",\"2011-03-21T00:00:00\",\"2011-03-28T00:00:00\",\"2011-04-04T00:00:00\",\"2011-04-11T00:00:00\",\"2011-04-18T00:00:00\",\"2011-04-25T00:00:00\",\"2011-05-02T00:00:00\",\"2011-05-09T00:00:00\",\"2011-05-16T00:00:00\",\"2011-05-23T00:00:00\",\"2011-05-30T00:00:00\",\"2011-06-06T00:00:00\",\"2011-06-13T00:00:00\",\"2011-06-20T00:00:00\",\"2011-06-27T00:00:00\",\"2011-07-04T00:00:00\",\"2011-07-11T00:00:00\",\"2011-07-18T00:00:00\",\"2011-07-25T00:00:00\",\"2011-08-01T00:00:00\",\"2011-08-08T00:00:00\",\"2011-08-15T00:00:00\",\"2011-08-22T00:00:00\",\"2011-08-29T00:00:00\",\"2011-09-05T00:00:00\",\"2011-09-12T00:00:00\",\"2011-09-19T00:00:00\",\"2011-09-26T00:00:00\",\"2011-10-03T00:00:00\",\"2011-10-10T00:00:00\",\"2011-10-17T00:00:00\",\"2011-10-24T00:00:00\",\"2011-10-31T00:00:00\",\"2011-11-07T00:00:00\",\"2011-11-14T00:00:00\",\"2011-11-21T00:00:00\",\"2011-11-28T00:00:00\",\"2011-12-05T00:00:00\",\"2011-12-12T00:00:00\",\"2011-12-19T00:00:00\",\"2011-12-26T00:00:00\",\"2012-01-02T00:00:00\",\"2012-01-09T00:00:00\",\"2012-01-16T00:00:00\",\"2012-01-23T00:00:00\",\"2012-01-30T00:00:00\",\"2012-02-06T00:00:00\",\"2012-02-13T00:00:00\",\"2012-02-20T00:00:00\",\"2012-02-27T00:00:00\",\"2012-03-05T00:00:00\",\"2012-03-12T00:00:00\",\"2012-03-19T00:00:00\",\"2012-03-26T00:00:00\",\"2012-04-02T00:00:00\",\"2012-04-09T00:00:00\",\"2012-04-16T00:00:00\",\"2012-04-23T00:00:00\",\"2012-04-30T00:00:00\",\"2012-05-07T00:00:00\",\"2012-05-14T00:00:00\",\"2012-05-21T00:00:00\",\"2012-05-28T00:00:00\",\"2012-06-04T00:00:00\",\"2012-06-11T00:00:00\",\"2012-06-18T00:00:00\",\"2012-06-25T00:00:00\",\"2012-07-02T00:00:00\",\"2012-07-09T00:00:00\",\"2012-07-16T00:00:00\",\"2012-07-23T00:00:00\",\"2012-07-30T00:00:00\",\"2012-08-06T00:00:00\",\"2012-08-13T00:00:00\",\"2012-08-20T00:00:00\",\"2012-08-27T00:00:00\",\"2012-09-03T00:00:00\",\"2012-09-10T00:00:00\",\"2012-09-17T00:00:00\",\"2012-09-24T00:00:00\",\"2012-10-01T00:00:00\",\"2012-10-08T00:00:00\",\"2012-10-15T00:00:00\",\"2012-10-22T00:00:00\",\"2012-10-29T00:00:00\",\"2012-11-05T00:00:00\",\"2012-11-12T00:00:00\",\"2012-11-19T00:00:00\",\"2012-11-26T00:00:00\",\"2012-12-03T00:00:00\",\"2012-12-10T00:00:00\",\"2012-12-17T00:00:00\",\"2012-12-24T00:00:00\",\"2012-12-31T00:00:00\",\"2013-01-07T00:00:00\",\"2013-01-14T00:00:00\",\"2013-01-21T00:00:00\",\"2013-01-28T00:00:00\",\"2013-02-04T00:00:00\",\"2013-02-11T00:00:00\",\"2013-02-18T00:00:00\",\"2013-02-25T00:00:00\",\"2013-03-04T00:00:00\",\"2013-03-11T00:00:00\",\"2013-03-18T00:00:00\",\"2013-03-25T00:00:00\",\"2013-04-01T00:00:00\",\"2013-04-08T00:00:00\",\"2013-04-15T00:00:00\",\"2013-04-22T00:00:00\",\"2013-04-29T00:00:00\",\"2013-05-06T00:00:00\",\"2013-05-13T00:00:00\",\"2013-05-20T00:00:00\",\"2013-05-27T00:00:00\",\"2013-06-03T00:00:00\",\"2013-06-10T00:00:00\",\"2013-06-17T00:00:00\",\"2013-06-24T00:00:00\",\"2013-07-01T00:00:00\",\"2013-07-08T00:00:00\",\"2013-07-15T00:00:00\",\"2013-07-22T00:00:00\",\"2013-07-29T00:00:00\",\"2013-08-05T00:00:00\",\"2013-08-12T00:00:00\",\"2013-08-19T00:00:00\",\"2013-08-26T00:00:00\",\"2013-09-02T00:00:00\",\"2013-09-09T00:00:00\",\"2013-09-16T00:00:00\",\"2013-09-23T00:00:00\",\"2013-09-30T00:00:00\",\"2013-10-07T00:00:00\",\"2013-10-14T00:00:00\",\"2013-10-21T00:00:00\",\"2013-10-28T00:00:00\",\"2013-11-04T00:00:00\",\"2013-11-11T00:00:00\",\"2013-11-18T00:00:00\",\"2013-11-25T00:00:00\",\"2013-12-02T00:00:00\",\"2013-12-09T00:00:00\",\"2013-12-16T00:00:00\",\"2013-12-23T00:00:00\",\"2013-12-30T00:00:00\",\"2014-01-06T00:00:00\",\"2014-01-13T00:00:00\",\"2014-01-20T00:00:00\",\"2014-01-27T00:00:00\",\"2014-02-03T00:00:00\",\"2014-02-10T00:00:00\",\"2014-02-17T00:00:00\",\"2014-02-24T00:00:00\",\"2014-03-03T00:00:00\",\"2014-03-10T00:00:00\",\"2014-03-17T00:00:00\",\"2014-03-24T00:00:00\",\"2014-03-31T00:00:00\",\"2014-04-07T00:00:00\",\"2014-04-14T00:00:00\",\"2014-04-21T00:00:00\",\"2014-04-28T00:00:00\",\"2014-05-05T00:00:00\",\"2014-05-12T00:00:00\",\"2014-05-19T00:00:00\",\"2014-05-26T00:00:00\",\"2014-06-02T00:00:00\",\"2014-06-09T00:00:00\",\"2014-06-16T00:00:00\",\"2014-06-23T00:00:00\",\"2014-06-30T00:00:00\",\"2014-07-07T00:00:00\",\"2014-07-14T00:00:00\",\"2014-07-21T00:00:00\",\"2014-07-28T00:00:00\",\"2014-08-04T00:00:00\",\"2014-08-11T00:00:00\",\"2014-08-18T00:00:00\",\"2014-08-25T00:00:00\",\"2014-09-01T00:00:00\",\"2014-09-08T00:00:00\",\"2014-09-15T00:00:00\",\"2014-09-22T00:00:00\",\"2014-09-29T00:00:00\",\"2014-10-06T00:00:00\",\"2014-10-13T00:00:00\",\"2014-10-20T00:00:00\",\"2014-10-27T00:00:00\",\"2014-11-03T00:00:00\",\"2014-11-10T00:00:00\",\"2014-11-17T00:00:00\",\"2014-11-24T00:00:00\",\"2014-12-01T00:00:00\",\"2014-12-08T00:00:00\",\"2014-12-15T00:00:00\",\"2014-12-22T00:00:00\",\"2014-12-29T00:00:00\"],\"xaxis\":\"x\",\"y\":[79,60,44,49,78,76,103,74,86,81,59,74,63,83,53,74,50,66,81,46,99,62,98,30,56,40,18,15,12,12,4,4,1,0,1,3,1,3,2,4,3,8,9,15,12,21,9,13,28,32,24,33,42,56,8,34,35,23,25,50,51,58,62,78,48,66,30,57,139,56,68,38,72,78,60,60,51,63,70,21,54,19,5,16,1,5,1,5,3,7,3,6,1,4,3,9,16,15,24,17,24,52,53,21,39,63,38,50,55,49,58,62,79,53,65,109,90,68,89,121,41,60,137,118,141,38,116,75,73,34,25,21,8,17,9,4,1,1,1,4,1,4,11,5,13,10,14,9,20,22,21,50,34,27,36,15,41,68,76,50,20,24,33,39,46,42,50,31,78,64,78,42,60,19,93,63,103,77,145,96,69,35,68,14,8,17,4,2,1,0,2,1,0,0,1,4,2,4,3,7,9,13,8,29,17,20,42,20,18,42,23,49,62,41,57,47,94,73,59,52,22,113,45,68,25,46,70,39,47,20,45,22,55,41,17,26,6,3,24,10,2,1,1,1,2,0,0,2,5,6,10,4,1,3,8,9,31,38,46,50,28,37,23,56,103,50,47,127,83,101,68,135,123,112,80,140,106,116,96,115,102,17,84,74,66,42,25,44,34,16,19,3,2,7,1,0,1,2,0,10,5,9,23,43,16,44,28,29,18,52,45,36,41,35,38,18,51,31,28,53,46,37,43,51,58,38,37,53,41,28,49,17,55,8,62,29,38,21,23,10,3,1,11,2,0,4,1,0,1,0,3,5,5,7,9,2,10,2,12,16,16,30,40,42,52,36,41,91,48,18,29,37,20,37,43,6,38,28,21,14,27,24,2,11,16,11,2,16,7,7,11,14,7,11,2,6,2,0,0,0,4,1,3,2,12,12,11,11,3,9,12,8,14,9,18,37,11,47,34,54,22,34,194,66,29,185,51,81,68,110,38,27,27,54,54,80,115,44,67,58,47,105,106,35,30,11,36,84,10,0,0,1,1,1,0,3,2,22,15,26,9,18,5,24,14,20,30,44,3,27,49,50,19,24,43,31,29,40,53,48,49,60,51,21,31,21,10,67,35,23,35,17,4,27,20,19,27,4,7,0,5,2,4,3,0,2,4,4,4,10,1,12,7,4,5,15,15,12,39,7,23,42],\"yaxis\":\"y\",\"type\":\"scattergl\"},{\"hovertemplate\":\"variable=BACS<br>Date=%{x}<br>value=%{y}<extra></extra>\",\"legendgroup\":\"BACS\",\"line\":{\"color\":\"royalblue\",\"dash\":\"solid\"},\"marker\":{\"symbol\":\"circle\"},\"mode\":\"lines\",\"name\":\"BACS\",\"showlegend\":true,\"x\":[\"2005-01-03T00:00:00\",\"2005-01-10T00:00:00\",\"2005-01-17T00:00:00\",\"2005-01-24T00:00:00\",\"2005-01-31T00:00:00\",\"2005-02-07T00:00:00\",\"2005-02-14T00:00:00\",\"2005-02-21T00:00:00\",\"2005-02-28T00:00:00\",\"2005-03-07T00:00:00\",\"2005-03-14T00:00:00\",\"2005-03-21T00:00:00\",\"2005-03-28T00:00:00\",\"2005-04-04T00:00:00\",\"2005-04-11T00:00:00\",\"2005-04-18T00:00:00\",\"2005-04-25T00:00:00\",\"2005-05-02T00:00:00\",\"2005-05-09T00:00:00\",\"2005-05-16T00:00:00\",\"2005-05-23T00:00:00\",\"2005-05-30T00:00:00\",\"2005-06-06T00:00:00\",\"2005-06-13T00:00:00\",\"2005-06-20T00:00:00\",\"2005-06-27T00:00:00\",\"2005-07-04T00:00:00\",\"2005-07-11T00:00:00\",\"2005-07-18T00:00:00\",\"2005-07-25T00:00:00\",\"2005-08-01T00:00:00\",\"2005-08-08T00:00:00\",\"2005-08-15T00:00:00\",\"2005-08-22T00:00:00\",\"2005-08-29T00:00:00\",\"2005-09-05T00:00:00\",\"2005-09-12T00:00:00\",\"2005-09-19T00:00:00\",\"2005-09-26T00:00:00\",\"2005-10-03T00:00:00\",\"2005-10-10T00:00:00\",\"2005-10-17T00:00:00\",\"2005-10-24T00:00:00\",\"2005-10-31T00:00:00\",\"2005-11-07T00:00:00\",\"2005-11-14T00:00:00\",\"2005-11-21T00:00:00\",\"2005-11-28T00:00:00\",\"2005-12-05T00:00:00\",\"2005-12-12T00:00:00\",\"2005-12-19T00:00:00\",\"2005-12-26T00:00:00\",\"2006-01-02T00:00:00\",\"2006-01-09T00:00:00\",\"2006-01-16T00:00:00\",\"2006-01-23T00:00:00\",\"2006-01-30T00:00:00\",\"2006-02-06T00:00:00\",\"2006-02-13T00:00:00\",\"2006-02-20T00:00:00\",\"2006-02-27T00:00:00\",\"2006-03-06T00:00:00\",\"2006-03-13T00:00:00\",\"2006-03-20T00:00:00\",\"2006-03-27T00:00:00\",\"2006-04-03T00:00:00\",\"2006-04-10T00:00:00\",\"2006-04-17T00:00:00\",\"2006-04-24T00:00:00\",\"2006-05-01T00:00:00\",\"2006-05-08T00:00:00\",\"2006-05-15T00:00:00\",\"2006-05-22T00:00:00\",\"2006-05-29T00:00:00\",\"2006-06-05T00:00:00\",\"2006-06-12T00:00:00\",\"2006-06-19T00:00:00\",\"2006-06-26T00:00:00\",\"2006-07-03T00:00:00\",\"2006-07-10T00:00:00\",\"2006-07-17T00:00:00\",\"2006-07-24T00:00:00\",\"2006-07-31T00:00:00\",\"2006-08-07T00:00:00\",\"2006-08-14T00:00:00\",\"2006-08-21T00:00:00\",\"2006-08-28T00:00:00\",\"2006-09-04T00:00:00\",\"2006-09-11T00:00:00\",\"2006-09-18T00:00:00\",\"2006-09-25T00:00:00\",\"2006-10-02T00:00:00\",\"2006-10-09T00:00:00\",\"2006-10-16T00:00:00\",\"2006-10-23T00:00:00\",\"2006-10-30T00:00:00\",\"2006-11-06T00:00:00\",\"2006-11-13T00:00:00\",\"2006-11-20T00:00:00\",\"2006-11-27T00:00:00\",\"2006-12-04T00:00:00\",\"2006-12-11T00:00:00\",\"2006-12-18T00:00:00\",\"2006-12-25T00:00:00\",\"2007-01-01T00:00:00\",\"2007-01-08T00:00:00\",\"2007-01-15T00:00:00\",\"2007-01-22T00:00:00\",\"2007-01-29T00:00:00\",\"2007-02-05T00:00:00\",\"2007-02-12T00:00:00\",\"2007-02-19T00:00:00\",\"2007-02-26T00:00:00\",\"2007-03-05T00:00:00\",\"2007-03-12T00:00:00\",\"2007-03-19T00:00:00\",\"2007-03-26T00:00:00\",\"2007-04-02T00:00:00\",\"2007-04-09T00:00:00\",\"2007-04-16T00:00:00\",\"2007-04-23T00:00:00\",\"2007-04-30T00:00:00\",\"2007-05-07T00:00:00\",\"2007-05-14T00:00:00\",\"2007-05-21T00:00:00\",\"2007-05-28T00:00:00\",\"2007-06-04T00:00:00\",\"2007-06-11T00:00:00\",\"2007-06-18T00:00:00\",\"2007-06-25T00:00:00\",\"2007-07-02T00:00:00\",\"2007-07-09T00:00:00\",\"2007-07-16T00:00:00\",\"2007-07-23T00:00:00\",\"2007-07-30T00:00:00\",\"2007-08-06T00:00:00\",\"2007-08-13T00:00:00\",\"2007-08-20T00:00:00\",\"2007-08-27T00:00:00\",\"2007-09-03T00:00:00\",\"2007-09-10T00:00:00\",\"2007-09-17T00:00:00\",\"2007-09-24T00:00:00\",\"2007-10-01T00:00:00\",\"2007-10-08T00:00:00\",\"2007-10-15T00:00:00\",\"2007-10-22T00:00:00\",\"2007-10-29T00:00:00\",\"2007-11-05T00:00:00\",\"2007-11-12T00:00:00\",\"2007-11-19T00:00:00\",\"2007-11-26T00:00:00\",\"2007-12-03T00:00:00\",\"2007-12-10T00:00:00\",\"2007-12-17T00:00:00\",\"2007-12-24T00:00:00\",\"2007-12-31T00:00:00\",\"2008-01-07T00:00:00\",\"2008-01-14T00:00:00\",\"2008-01-21T00:00:00\",\"2008-01-28T00:00:00\",\"2008-02-04T00:00:00\",\"2008-02-11T00:00:00\",\"2008-02-18T00:00:00\",\"2008-02-25T00:00:00\",\"2008-03-03T00:00:00\",\"2008-03-10T00:00:00\",\"2008-03-17T00:00:00\",\"2008-03-24T00:00:00\",\"2008-03-31T00:00:00\",\"2008-04-07T00:00:00\",\"2008-04-14T00:00:00\",\"2008-04-21T00:00:00\",\"2008-04-28T00:00:00\",\"2008-05-05T00:00:00\",\"2008-05-12T00:00:00\",\"2008-05-19T00:00:00\",\"2008-05-26T00:00:00\",\"2008-06-02T00:00:00\",\"2008-06-09T00:00:00\",\"2008-06-16T00:00:00\",\"2008-06-23T00:00:00\",\"2008-06-30T00:00:00\",\"2008-07-07T00:00:00\",\"2008-07-14T00:00:00\",\"2008-07-21T00:00:00\",\"2008-07-28T00:00:00\",\"2008-08-04T00:00:00\",\"2008-08-11T00:00:00\",\"2008-08-18T00:00:00\",\"2008-08-25T00:00:00\",\"2008-09-01T00:00:00\",\"2008-09-08T00:00:00\",\"2008-09-15T00:00:00\",\"2008-09-22T00:00:00\",\"2008-09-29T00:00:00\",\"2008-10-06T00:00:00\",\"2008-10-13T00:00:00\",\"2008-10-20T00:00:00\",\"2008-10-27T00:00:00\",\"2008-11-03T00:00:00\",\"2008-11-10T00:00:00\",\"2008-11-17T00:00:00\",\"2008-11-24T00:00:00\",\"2008-12-01T00:00:00\",\"2008-12-08T00:00:00\",\"2008-12-15T00:00:00\",\"2008-12-22T00:00:00\",\"2008-12-29T00:00:00\",\"2009-01-05T00:00:00\",\"2009-01-12T00:00:00\",\"2009-01-19T00:00:00\",\"2009-01-26T00:00:00\",\"2009-02-02T00:00:00\",\"2009-02-09T00:00:00\",\"2009-02-16T00:00:00\",\"2009-02-23T00:00:00\",\"2009-03-02T00:00:00\",\"2009-03-09T00:00:00\",\"2009-03-16T00:00:00\",\"2009-03-23T00:00:00\",\"2009-03-30T00:00:00\",\"2009-04-06T00:00:00\",\"2009-04-13T00:00:00\",\"2009-04-20T00:00:00\",\"2009-04-27T00:00:00\",\"2009-05-04T00:00:00\",\"2009-05-11T00:00:00\",\"2009-05-18T00:00:00\",\"2009-05-25T00:00:00\",\"2009-06-01T00:00:00\",\"2009-06-08T00:00:00\",\"2009-06-15T00:00:00\",\"2009-06-22T00:00:00\",\"2009-06-29T00:00:00\",\"2009-07-06T00:00:00\",\"2009-07-13T00:00:00\",\"2009-07-20T00:00:00\",\"2009-07-27T00:00:00\",\"2009-08-03T00:00:00\",\"2009-08-10T00:00:00\",\"2009-08-17T00:00:00\",\"2009-08-24T00:00:00\",\"2009-08-31T00:00:00\",\"2009-09-07T00:00:00\",\"2009-09-14T00:00:00\",\"2009-09-21T00:00:00\",\"2009-09-28T00:00:00\",\"2009-10-05T00:00:00\",\"2009-10-12T00:00:00\",\"2009-10-19T00:00:00\",\"2009-10-26T00:00:00\",\"2009-11-02T00:00:00\",\"2009-11-09T00:00:00\",\"2009-11-16T00:00:00\",\"2009-11-23T00:00:00\",\"2009-11-30T00:00:00\",\"2009-12-07T00:00:00\",\"2009-12-14T00:00:00\",\"2009-12-21T00:00:00\",\"2009-12-28T00:00:00\",\"2010-01-04T00:00:00\",\"2010-01-11T00:00:00\",\"2010-01-18T00:00:00\",\"2010-01-25T00:00:00\",\"2010-02-01T00:00:00\",\"2010-02-08T00:00:00\",\"2010-02-15T00:00:00\",\"2010-02-22T00:00:00\",\"2010-03-01T00:00:00\",\"2010-03-08T00:00:00\",\"2010-03-15T00:00:00\",\"2010-03-22T00:00:00\",\"2010-03-29T00:00:00\",\"2010-04-05T00:00:00\",\"2010-04-12T00:00:00\",\"2010-04-19T00:00:00\",\"2010-04-26T00:00:00\",\"2010-05-03T00:00:00\",\"2010-05-10T00:00:00\",\"2010-05-17T00:00:00\",\"2010-05-24T00:00:00\",\"2010-05-31T00:00:00\",\"2010-06-07T00:00:00\",\"2010-06-14T00:00:00\",\"2010-06-21T00:00:00\",\"2010-06-28T00:00:00\",\"2010-07-05T00:00:00\",\"2010-07-12T00:00:00\",\"2010-07-19T00:00:00\",\"2010-07-26T00:00:00\",\"2010-08-02T00:00:00\",\"2010-08-09T00:00:00\",\"2010-08-16T00:00:00\",\"2010-08-23T00:00:00\",\"2010-08-30T00:00:00\",\"2010-09-06T00:00:00\",\"2010-09-13T00:00:00\",\"2010-09-20T00:00:00\",\"2010-09-27T00:00:00\",\"2010-10-04T00:00:00\",\"2010-10-11T00:00:00\",\"2010-10-18T00:00:00\",\"2010-10-25T00:00:00\",\"2010-11-01T00:00:00\",\"2010-11-08T00:00:00\",\"2010-11-15T00:00:00\",\"2010-11-22T00:00:00\",\"2010-11-29T00:00:00\",\"2010-12-06T00:00:00\",\"2010-12-13T00:00:00\",\"2010-12-20T00:00:00\",\"2010-12-27T00:00:00\",\"2011-01-03T00:00:00\",\"2011-01-10T00:00:00\",\"2011-01-17T00:00:00\",\"2011-01-24T00:00:00\",\"2011-01-31T00:00:00\",\"2011-02-07T00:00:00\",\"2011-02-14T00:00:00\",\"2011-02-21T00:00:00\",\"2011-02-28T00:00:00\",\"2011-03-07T00:00:00\",\"2011-03-14T00:00:00\",\"2011-03-21T00:00:00\",\"2011-03-28T00:00:00\",\"2011-04-04T00:00:00\",\"2011-04-11T00:00:00\",\"2011-04-18T00:00:00\",\"2011-04-25T00:00:00\",\"2011-05-02T00:00:00\",\"2011-05-09T00:00:00\",\"2011-05-16T00:00:00\",\"2011-05-23T00:00:00\",\"2011-05-30T00:00:00\",\"2011-06-06T00:00:00\",\"2011-06-13T00:00:00\",\"2011-06-20T00:00:00\",\"2011-06-27T00:00:00\",\"2011-07-04T00:00:00\",\"2011-07-11T00:00:00\",\"2011-07-18T00:00:00\",\"2011-07-25T00:00:00\",\"2011-08-01T00:00:00\",\"2011-08-08T00:00:00\",\"2011-08-15T00:00:00\",\"2011-08-22T00:00:00\",\"2011-08-29T00:00:00\",\"2011-09-05T00:00:00\",\"2011-09-12T00:00:00\",\"2011-09-19T00:00:00\",\"2011-09-26T00:00:00\",\"2011-10-03T00:00:00\",\"2011-10-10T00:00:00\",\"2011-10-17T00:00:00\",\"2011-10-24T00:00:00\",\"2011-10-31T00:00:00\",\"2011-11-07T00:00:00\",\"2011-11-14T00:00:00\",\"2011-11-21T00:00:00\",\"2011-11-28T00:00:00\",\"2011-12-05T00:00:00\",\"2011-12-12T00:00:00\",\"2011-12-19T00:00:00\",\"2011-12-26T00:00:00\",\"2012-01-02T00:00:00\",\"2012-01-09T00:00:00\",\"2012-01-16T00:00:00\",\"2012-01-23T00:00:00\",\"2012-01-30T00:00:00\",\"2012-02-06T00:00:00\",\"2012-02-13T00:00:00\",\"2012-02-20T00:00:00\",\"2012-02-27T00:00:00\",\"2012-03-05T00:00:00\",\"2012-03-12T00:00:00\",\"2012-03-19T00:00:00\",\"2012-03-26T00:00:00\",\"2012-04-02T00:00:00\",\"2012-04-09T00:00:00\",\"2012-04-16T00:00:00\",\"2012-04-23T00:00:00\",\"2012-04-30T00:00:00\",\"2012-05-07T00:00:00\",\"2012-05-14T00:00:00\",\"2012-05-21T00:00:00\",\"2012-05-28T00:00:00\",\"2012-06-04T00:00:00\",\"2012-06-11T00:00:00\",\"2012-06-18T00:00:00\",\"2012-06-25T00:00:00\",\"2012-07-02T00:00:00\",\"2012-07-09T00:00:00\",\"2012-07-16T00:00:00\",\"2012-07-23T00:00:00\",\"2012-07-30T00:00:00\",\"2012-08-06T00:00:00\",\"2012-08-13T00:00:00\",\"2012-08-20T00:00:00\",\"2012-08-27T00:00:00\",\"2012-09-03T00:00:00\",\"2012-09-10T00:00:00\",\"2012-09-17T00:00:00\",\"2012-09-24T00:00:00\",\"2012-10-01T00:00:00\",\"2012-10-08T00:00:00\",\"2012-10-15T00:00:00\",\"2012-10-22T00:00:00\",\"2012-10-29T00:00:00\",\"2012-11-05T00:00:00\",\"2012-11-12T00:00:00\",\"2012-11-19T00:00:00\",\"2012-11-26T00:00:00\",\"2012-12-03T00:00:00\",\"2012-12-10T00:00:00\",\"2012-12-17T00:00:00\",\"2012-12-24T00:00:00\",\"2012-12-31T00:00:00\",\"2013-01-07T00:00:00\",\"2013-01-14T00:00:00\",\"2013-01-21T00:00:00\",\"2013-01-28T00:00:00\",\"2013-02-04T00:00:00\",\"2013-02-11T00:00:00\",\"2013-02-18T00:00:00\",\"2013-02-25T00:00:00\",\"2013-03-04T00:00:00\",\"2013-03-11T00:00:00\",\"2013-03-18T00:00:00\",\"2013-03-25T00:00:00\",\"2013-04-01T00:00:00\",\"2013-04-08T00:00:00\",\"2013-04-15T00:00:00\",\"2013-04-22T00:00:00\",\"2013-04-29T00:00:00\",\"2013-05-06T00:00:00\",\"2013-05-13T00:00:00\",\"2013-05-20T00:00:00\",\"2013-05-27T00:00:00\",\"2013-06-03T00:00:00\",\"2013-06-10T00:00:00\",\"2013-06-17T00:00:00\",\"2013-06-24T00:00:00\",\"2013-07-01T00:00:00\",\"2013-07-08T00:00:00\",\"2013-07-15T00:00:00\",\"2013-07-22T00:00:00\",\"2013-07-29T00:00:00\",\"2013-08-05T00:00:00\",\"2013-08-12T00:00:00\",\"2013-08-19T00:00:00\",\"2013-08-26T00:00:00\",\"2013-09-02T00:00:00\",\"2013-09-09T00:00:00\",\"2013-09-16T00:00:00\",\"2013-09-23T00:00:00\",\"2013-09-30T00:00:00\",\"2013-10-07T00:00:00\",\"2013-10-14T00:00:00\",\"2013-10-21T00:00:00\",\"2013-10-28T00:00:00\",\"2013-11-04T00:00:00\",\"2013-11-11T00:00:00\",\"2013-11-18T00:00:00\",\"2013-11-25T00:00:00\",\"2013-12-02T00:00:00\",\"2013-12-09T00:00:00\",\"2013-12-16T00:00:00\",\"2013-12-23T00:00:00\",\"2013-12-30T00:00:00\",\"2014-01-06T00:00:00\",\"2014-01-13T00:00:00\",\"2014-01-20T00:00:00\",\"2014-01-27T00:00:00\",\"2014-02-03T00:00:00\",\"2014-02-10T00:00:00\",\"2014-02-17T00:00:00\",\"2014-02-24T00:00:00\",\"2014-03-03T00:00:00\",\"2014-03-10T00:00:00\",\"2014-03-17T00:00:00\",\"2014-03-24T00:00:00\",\"2014-03-31T00:00:00\",\"2014-04-07T00:00:00\",\"2014-04-14T00:00:00\",\"2014-04-21T00:00:00\",\"2014-04-28T00:00:00\",\"2014-05-05T00:00:00\",\"2014-05-12T00:00:00\",\"2014-05-19T00:00:00\",\"2014-05-26T00:00:00\",\"2014-06-02T00:00:00\",\"2014-06-09T00:00:00\",\"2014-06-16T00:00:00\",\"2014-06-23T00:00:00\",\"2014-06-30T00:00:00\",\"2014-07-07T00:00:00\",\"2014-07-14T00:00:00\",\"2014-07-21T00:00:00\",\"2014-07-28T00:00:00\",\"2014-08-04T00:00:00\",\"2014-08-11T00:00:00\",\"2014-08-18T00:00:00\",\"2014-08-25T00:00:00\",\"2014-09-01T00:00:00\",\"2014-09-08T00:00:00\",\"2014-09-15T00:00:00\",\"2014-09-22T00:00:00\",\"2014-09-29T00:00:00\",\"2014-10-06T00:00:00\",\"2014-10-13T00:00:00\",\"2014-10-20T00:00:00\",\"2014-10-27T00:00:00\",\"2014-11-03T00:00:00\",\"2014-11-10T00:00:00\",\"2014-11-17T00:00:00\",\"2014-11-24T00:00:00\",\"2014-12-01T00:00:00\",\"2014-12-08T00:00:00\",\"2014-12-15T00:00:00\",\"2014-12-22T00:00:00\",\"2014-12-29T00:00:00\"],\"xaxis\":\"x\",\"y\":[30,30,31,43,53,77,54,64,57,129,81,51,98,59,84,62,120,81,103,86,125,145,129,94,94,153,38,67,11,7,21,6,1,0,2,9,1,6,3,6,5,15,26,33,35,58,36,65,40,77,44,21,60,46,29,41,31,42,70,48,52,53,59,109,69,97,55,75,97,86,59,49,34,118,55,80,65,56,25,25,16,7,3,1,4,0,0,2,1,0,4,3,2,9,10,18,19,39,14,26,28,10,44,24,24,56,46,46,55,39,73,37,40,77,22,89,61,69,59,63,60,66,91,145,75,91,79,65,47,67,23,16,19,19,6,5,6,1,2,4,2,2,4,6,12,20,34,9,48,34,29,40,36,52,38,31,57,34,95,71,48,18,17,52,26,70,32,50,18,44,65,51,134,18,69,111,70,81,34,51,31,34,15,17,9,10,5,7,5,1,2,2,8,5,9,9,34,20,0,72,25,19,35,17,23,14,20,3,1,58,66,40,44,25,42,64,55,46,51,38,46,41,53,42,152,30,37,72,46,70,50,40,52,20,42,0,25,23,4,5,0,0,4,0,0,2,1,6,9,3,10,12,22,4,9,25,17,43,39,3,19,50,52,20,52,26,82,87,102,118,86,96,110,88,108,96,238,117,167,62,160,83,135,94,57,31,43,48,16,6,6,3,4,4,0,2,1,1,13,4,10,31,3,30,2,25,24,14,49,49,54,24,20,35,41,15,28,23,31,17,32,46,45,24,29,19,34,48,28,45,87,71,101,71,86,64,46,46,51,42,16,10,8,5,3,0,1,1,0,2,1,1,3,4,9,11,11,11,22,42,28,63,86,41,32,140,86,41,44,61,38,121,66,69,47,16,119,49,67,50,90,31,26,77,77,49,43,127,53,34,26,53,40,39,11,7,0,6,4,0,0,8,5,0,12,0,7,8,1,9,4,3,6,8,18,18,6,7,8,28,5,20,6,33,13,47,11,39,41,12,22,21,38,31,50,34,40,46,55,12,35,5,37,22,28,22,11,8,16,0,3,9,0,1,3,5,9,0,1,10,1,8,14,8,3,14,30,35,0,1,4,41,72,41,14,1,72,36,51,77,21,34,68,157,38,25,5,40,274,48,80,85,0,177,84,25,17,25,10,12,8,2,1,1,0,0,0,1,2,0,0,3,1,7,10,26,14,41,31,15,8,49],\"yaxis\":\"y\",\"type\":\"scattergl\"},{\"hovertemplate\":\"variable=BEKES<br>Date=%{x}<br>value=%{y}<extra></extra>\",\"legendgroup\":\"BEKES\",\"line\":{\"color\":\"magenta\",\"dash\":\"solid\"},\"marker\":{\"symbol\":\"circle\"},\"mode\":\"lines\",\"name\":\"BEKES\",\"showlegend\":true,\"x\":[\"2005-01-03T00:00:00\",\"2005-01-10T00:00:00\",\"2005-01-17T00:00:00\",\"2005-01-24T00:00:00\",\"2005-01-31T00:00:00\",\"2005-02-07T00:00:00\",\"2005-02-14T00:00:00\",\"2005-02-21T00:00:00\",\"2005-02-28T00:00:00\",\"2005-03-07T00:00:00\",\"2005-03-14T00:00:00\",\"2005-03-21T00:00:00\",\"2005-03-28T00:00:00\",\"2005-04-04T00:00:00\",\"2005-04-11T00:00:00\",\"2005-04-18T00:00:00\",\"2005-04-25T00:00:00\",\"2005-05-02T00:00:00\",\"2005-05-09T00:00:00\",\"2005-05-16T00:00:00\",\"2005-05-23T00:00:00\",\"2005-05-30T00:00:00\",\"2005-06-06T00:00:00\",\"2005-06-13T00:00:00\",\"2005-06-20T00:00:00\",\"2005-06-27T00:00:00\",\"2005-07-04T00:00:00\",\"2005-07-11T00:00:00\",\"2005-07-18T00:00:00\",\"2005-07-25T00:00:00\",\"2005-08-01T00:00:00\",\"2005-08-08T00:00:00\",\"2005-08-15T00:00:00\",\"2005-08-22T00:00:00\",\"2005-08-29T00:00:00\",\"2005-09-05T00:00:00\",\"2005-09-12T00:00:00\",\"2005-09-19T00:00:00\",\"2005-09-26T00:00:00\",\"2005-10-03T00:00:00\",\"2005-10-10T00:00:00\",\"2005-10-17T00:00:00\",\"2005-10-24T00:00:00\",\"2005-10-31T00:00:00\",\"2005-11-07T00:00:00\",\"2005-11-14T00:00:00\",\"2005-11-21T00:00:00\",\"2005-11-28T00:00:00\",\"2005-12-05T00:00:00\",\"2005-12-12T00:00:00\",\"2005-12-19T00:00:00\",\"2005-12-26T00:00:00\",\"2006-01-02T00:00:00\",\"2006-01-09T00:00:00\",\"2006-01-16T00:00:00\",\"2006-01-23T00:00:00\",\"2006-01-30T00:00:00\",\"2006-02-06T00:00:00\",\"2006-02-13T00:00:00\",\"2006-02-20T00:00:00\",\"2006-02-27T00:00:00\",\"2006-03-06T00:00:00\",\"2006-03-13T00:00:00\",\"2006-03-20T00:00:00\",\"2006-03-27T00:00:00\",\"2006-04-03T00:00:00\",\"2006-04-10T00:00:00\",\"2006-04-17T00:00:00\",\"2006-04-24T00:00:00\",\"2006-05-01T00:00:00\",\"2006-05-08T00:00:00\",\"2006-05-15T00:00:00\",\"2006-05-22T00:00:00\",\"2006-05-29T00:00:00\",\"2006-06-05T00:00:00\",\"2006-06-12T00:00:00\",\"2006-06-19T00:00:00\",\"2006-06-26T00:00:00\",\"2006-07-03T00:00:00\",\"2006-07-10T00:00:00\",\"2006-07-17T00:00:00\",\"2006-07-24T00:00:00\",\"2006-07-31T00:00:00\",\"2006-08-07T00:00:00\",\"2006-08-14T00:00:00\",\"2006-08-21T00:00:00\",\"2006-08-28T00:00:00\",\"2006-09-04T00:00:00\",\"2006-09-11T00:00:00\",\"2006-09-18T00:00:00\",\"2006-09-25T00:00:00\",\"2006-10-02T00:00:00\",\"2006-10-09T00:00:00\",\"2006-10-16T00:00:00\",\"2006-10-23T00:00:00\",\"2006-10-30T00:00:00\",\"2006-11-06T00:00:00\",\"2006-11-13T00:00:00\",\"2006-11-20T00:00:00\",\"2006-11-27T00:00:00\",\"2006-12-04T00:00:00\",\"2006-12-11T00:00:00\",\"2006-12-18T00:00:00\",\"2006-12-25T00:00:00\",\"2007-01-01T00:00:00\",\"2007-01-08T00:00:00\",\"2007-01-15T00:00:00\",\"2007-01-22T00:00:00\",\"2007-01-29T00:00:00\",\"2007-02-05T00:00:00\",\"2007-02-12T00:00:00\",\"2007-02-19T00:00:00\",\"2007-02-26T00:00:00\",\"2007-03-05T00:00:00\",\"2007-03-12T00:00:00\",\"2007-03-19T00:00:00\",\"2007-03-26T00:00:00\",\"2007-04-02T00:00:00\",\"2007-04-09T00:00:00\",\"2007-04-16T00:00:00\",\"2007-04-23T00:00:00\",\"2007-04-30T00:00:00\",\"2007-05-07T00:00:00\",\"2007-05-14T00:00:00\",\"2007-05-21T00:00:00\",\"2007-05-28T00:00:00\",\"2007-06-04T00:00:00\",\"2007-06-11T00:00:00\",\"2007-06-18T00:00:00\",\"2007-06-25T00:00:00\",\"2007-07-02T00:00:00\",\"2007-07-09T00:00:00\",\"2007-07-16T00:00:00\",\"2007-07-23T00:00:00\",\"2007-07-30T00:00:00\",\"2007-08-06T00:00:00\",\"2007-08-13T00:00:00\",\"2007-08-20T00:00:00\",\"2007-08-27T00:00:00\",\"2007-09-03T00:00:00\",\"2007-09-10T00:00:00\",\"2007-09-17T00:00:00\",\"2007-09-24T00:00:00\",\"2007-10-01T00:00:00\",\"2007-10-08T00:00:00\",\"2007-10-15T00:00:00\",\"2007-10-22T00:00:00\",\"2007-10-29T00:00:00\",\"2007-11-05T00:00:00\",\"2007-11-12T00:00:00\",\"2007-11-19T00:00:00\",\"2007-11-26T00:00:00\",\"2007-12-03T00:00:00\",\"2007-12-10T00:00:00\",\"2007-12-17T00:00:00\",\"2007-12-24T00:00:00\",\"2007-12-31T00:00:00\",\"2008-01-07T00:00:00\",\"2008-01-14T00:00:00\",\"2008-01-21T00:00:00\",\"2008-01-28T00:00:00\",\"2008-02-04T00:00:00\",\"2008-02-11T00:00:00\",\"2008-02-18T00:00:00\",\"2008-02-25T00:00:00\",\"2008-03-03T00:00:00\",\"2008-03-10T00:00:00\",\"2008-03-17T00:00:00\",\"2008-03-24T00:00:00\",\"2008-03-31T00:00:00\",\"2008-04-07T00:00:00\",\"2008-04-14T00:00:00\",\"2008-04-21T00:00:00\",\"2008-04-28T00:00:00\",\"2008-05-05T00:00:00\",\"2008-05-12T00:00:00\",\"2008-05-19T00:00:00\",\"2008-05-26T00:00:00\",\"2008-06-02T00:00:00\",\"2008-06-09T00:00:00\",\"2008-06-16T00:00:00\",\"2008-06-23T00:00:00\",\"2008-06-30T00:00:00\",\"2008-07-07T00:00:00\",\"2008-07-14T00:00:00\",\"2008-07-21T00:00:00\",\"2008-07-28T00:00:00\",\"2008-08-04T00:00:00\",\"2008-08-11T00:00:00\",\"2008-08-18T00:00:00\",\"2008-08-25T00:00:00\",\"2008-09-01T00:00:00\",\"2008-09-08T00:00:00\",\"2008-09-15T00:00:00\",\"2008-09-22T00:00:00\",\"2008-09-29T00:00:00\",\"2008-10-06T00:00:00\",\"2008-10-13T00:00:00\",\"2008-10-20T00:00:00\",\"2008-10-27T00:00:00\",\"2008-11-03T00:00:00\",\"2008-11-10T00:00:00\",\"2008-11-17T00:00:00\",\"2008-11-24T00:00:00\",\"2008-12-01T00:00:00\",\"2008-12-08T00:00:00\",\"2008-12-15T00:00:00\",\"2008-12-22T00:00:00\",\"2008-12-29T00:00:00\",\"2009-01-05T00:00:00\",\"2009-01-12T00:00:00\",\"2009-01-19T00:00:00\",\"2009-01-26T00:00:00\",\"2009-02-02T00:00:00\",\"2009-02-09T00:00:00\",\"2009-02-16T00:00:00\",\"2009-02-23T00:00:00\",\"2009-03-02T00:00:00\",\"2009-03-09T00:00:00\",\"2009-03-16T00:00:00\",\"2009-03-23T00:00:00\",\"2009-03-30T00:00:00\",\"2009-04-06T00:00:00\",\"2009-04-13T00:00:00\",\"2009-04-20T00:00:00\",\"2009-04-27T00:00:00\",\"2009-05-04T00:00:00\",\"2009-05-11T00:00:00\",\"2009-05-18T00:00:00\",\"2009-05-25T00:00:00\",\"2009-06-01T00:00:00\",\"2009-06-08T00:00:00\",\"2009-06-15T00:00:00\",\"2009-06-22T00:00:00\",\"2009-06-29T00:00:00\",\"2009-07-06T00:00:00\",\"2009-07-13T00:00:00\",\"2009-07-20T00:00:00\",\"2009-07-27T00:00:00\",\"2009-08-03T00:00:00\",\"2009-08-10T00:00:00\",\"2009-08-17T00:00:00\",\"2009-08-24T00:00:00\",\"2009-08-31T00:00:00\",\"2009-09-07T00:00:00\",\"2009-09-14T00:00:00\",\"2009-09-21T00:00:00\",\"2009-09-28T00:00:00\",\"2009-10-05T00:00:00\",\"2009-10-12T00:00:00\",\"2009-10-19T00:00:00\",\"2009-10-26T00:00:00\",\"2009-11-02T00:00:00\",\"2009-11-09T00:00:00\",\"2009-11-16T00:00:00\",\"2009-11-23T00:00:00\",\"2009-11-30T00:00:00\",\"2009-12-07T00:00:00\",\"2009-12-14T00:00:00\",\"2009-12-21T00:00:00\",\"2009-12-28T00:00:00\",\"2010-01-04T00:00:00\",\"2010-01-11T00:00:00\",\"2010-01-18T00:00:00\",\"2010-01-25T00:00:00\",\"2010-02-01T00:00:00\",\"2010-02-08T00:00:00\",\"2010-02-15T00:00:00\",\"2010-02-22T00:00:00\",\"2010-03-01T00:00:00\",\"2010-03-08T00:00:00\",\"2010-03-15T00:00:00\",\"2010-03-22T00:00:00\",\"2010-03-29T00:00:00\",\"2010-04-05T00:00:00\",\"2010-04-12T00:00:00\",\"2010-04-19T00:00:00\",\"2010-04-26T00:00:00\",\"2010-05-03T00:00:00\",\"2010-05-10T00:00:00\",\"2010-05-17T00:00:00\",\"2010-05-24T00:00:00\",\"2010-05-31T00:00:00\",\"2010-06-07T00:00:00\",\"2010-06-14T00:00:00\",\"2010-06-21T00:00:00\",\"2010-06-28T00:00:00\",\"2010-07-05T00:00:00\",\"2010-07-12T00:00:00\",\"2010-07-19T00:00:00\",\"2010-07-26T00:00:00\",\"2010-08-02T00:00:00\",\"2010-08-09T00:00:00\",\"2010-08-16T00:00:00\",\"2010-08-23T00:00:00\",\"2010-08-30T00:00:00\",\"2010-09-06T00:00:00\",\"2010-09-13T00:00:00\",\"2010-09-20T00:00:00\",\"2010-09-27T00:00:00\",\"2010-10-04T00:00:00\",\"2010-10-11T00:00:00\",\"2010-10-18T00:00:00\",\"2010-10-25T00:00:00\",\"2010-11-01T00:00:00\",\"2010-11-08T00:00:00\",\"2010-11-15T00:00:00\",\"2010-11-22T00:00:00\",\"2010-11-29T00:00:00\",\"2010-12-06T00:00:00\",\"2010-12-13T00:00:00\",\"2010-12-20T00:00:00\",\"2010-12-27T00:00:00\",\"2011-01-03T00:00:00\",\"2011-01-10T00:00:00\",\"2011-01-17T00:00:00\",\"2011-01-24T00:00:00\",\"2011-01-31T00:00:00\",\"2011-02-07T00:00:00\",\"2011-02-14T00:00:00\",\"2011-02-21T00:00:00\",\"2011-02-28T00:00:00\",\"2011-03-07T00:00:00\",\"2011-03-14T00:00:00\",\"2011-03-21T00:00:00\",\"2011-03-28T00:00:00\",\"2011-04-04T00:00:00\",\"2011-04-11T00:00:00\",\"2011-04-18T00:00:00\",\"2011-04-25T00:00:00\",\"2011-05-02T00:00:00\",\"2011-05-09T00:00:00\",\"2011-05-16T00:00:00\",\"2011-05-23T00:00:00\",\"2011-05-30T00:00:00\",\"2011-06-06T00:00:00\",\"2011-06-13T00:00:00\",\"2011-06-20T00:00:00\",\"2011-06-27T00:00:00\",\"2011-07-04T00:00:00\",\"2011-07-11T00:00:00\",\"2011-07-18T00:00:00\",\"2011-07-25T00:00:00\",\"2011-08-01T00:00:00\",\"2011-08-08T00:00:00\",\"2011-08-15T00:00:00\",\"2011-08-22T00:00:00\",\"2011-08-29T00:00:00\",\"2011-09-05T00:00:00\",\"2011-09-12T00:00:00\",\"2011-09-19T00:00:00\",\"2011-09-26T00:00:00\",\"2011-10-03T00:00:00\",\"2011-10-10T00:00:00\",\"2011-10-17T00:00:00\",\"2011-10-24T00:00:00\",\"2011-10-31T00:00:00\",\"2011-11-07T00:00:00\",\"2011-11-14T00:00:00\",\"2011-11-21T00:00:00\",\"2011-11-28T00:00:00\",\"2011-12-05T00:00:00\",\"2011-12-12T00:00:00\",\"2011-12-19T00:00:00\",\"2011-12-26T00:00:00\",\"2012-01-02T00:00:00\",\"2012-01-09T00:00:00\",\"2012-01-16T00:00:00\",\"2012-01-23T00:00:00\",\"2012-01-30T00:00:00\",\"2012-02-06T00:00:00\",\"2012-02-13T00:00:00\",\"2012-02-20T00:00:00\",\"2012-02-27T00:00:00\",\"2012-03-05T00:00:00\",\"2012-03-12T00:00:00\",\"2012-03-19T00:00:00\",\"2012-03-26T00:00:00\",\"2012-04-02T00:00:00\",\"2012-04-09T00:00:00\",\"2012-04-16T00:00:00\",\"2012-04-23T00:00:00\",\"2012-04-30T00:00:00\",\"2012-05-07T00:00:00\",\"2012-05-14T00:00:00\",\"2012-05-21T00:00:00\",\"2012-05-28T00:00:00\",\"2012-06-04T00:00:00\",\"2012-06-11T00:00:00\",\"2012-06-18T00:00:00\",\"2012-06-25T00:00:00\",\"2012-07-02T00:00:00\",\"2012-07-09T00:00:00\",\"2012-07-16T00:00:00\",\"2012-07-23T00:00:00\",\"2012-07-30T00:00:00\",\"2012-08-06T00:00:00\",\"2012-08-13T00:00:00\",\"2012-08-20T00:00:00\",\"2012-08-27T00:00:00\",\"2012-09-03T00:00:00\",\"2012-09-10T00:00:00\",\"2012-09-17T00:00:00\",\"2012-09-24T00:00:00\",\"2012-10-01T00:00:00\",\"2012-10-08T00:00:00\",\"2012-10-15T00:00:00\",\"2012-10-22T00:00:00\",\"2012-10-29T00:00:00\",\"2012-11-05T00:00:00\",\"2012-11-12T00:00:00\",\"2012-11-19T00:00:00\",\"2012-11-26T00:00:00\",\"2012-12-03T00:00:00\",\"2012-12-10T00:00:00\",\"2012-12-17T00:00:00\",\"2012-12-24T00:00:00\",\"2012-12-31T00:00:00\",\"2013-01-07T00:00:00\",\"2013-01-14T00:00:00\",\"2013-01-21T00:00:00\",\"2013-01-28T00:00:00\",\"2013-02-04T00:00:00\",\"2013-02-11T00:00:00\",\"2013-02-18T00:00:00\",\"2013-02-25T00:00:00\",\"2013-03-04T00:00:00\",\"2013-03-11T00:00:00\",\"2013-03-18T00:00:00\",\"2013-03-25T00:00:00\",\"2013-04-01T00:00:00\",\"2013-04-08T00:00:00\",\"2013-04-15T00:00:00\",\"2013-04-22T00:00:00\",\"2013-04-29T00:00:00\",\"2013-05-06T00:00:00\",\"2013-05-13T00:00:00\",\"2013-05-20T00:00:00\",\"2013-05-27T00:00:00\",\"2013-06-03T00:00:00\",\"2013-06-10T00:00:00\",\"2013-06-17T00:00:00\",\"2013-06-24T00:00:00\",\"2013-07-01T00:00:00\",\"2013-07-08T00:00:00\",\"2013-07-15T00:00:00\",\"2013-07-22T00:00:00\",\"2013-07-29T00:00:00\",\"2013-08-05T00:00:00\",\"2013-08-12T00:00:00\",\"2013-08-19T00:00:00\",\"2013-08-26T00:00:00\",\"2013-09-02T00:00:00\",\"2013-09-09T00:00:00\",\"2013-09-16T00:00:00\",\"2013-09-23T00:00:00\",\"2013-09-30T00:00:00\",\"2013-10-07T00:00:00\",\"2013-10-14T00:00:00\",\"2013-10-21T00:00:00\",\"2013-10-28T00:00:00\",\"2013-11-04T00:00:00\",\"2013-11-11T00:00:00\",\"2013-11-18T00:00:00\",\"2013-11-25T00:00:00\",\"2013-12-02T00:00:00\",\"2013-12-09T00:00:00\",\"2013-12-16T00:00:00\",\"2013-12-23T00:00:00\",\"2013-12-30T00:00:00\",\"2014-01-06T00:00:00\",\"2014-01-13T00:00:00\",\"2014-01-20T00:00:00\",\"2014-01-27T00:00:00\",\"2014-02-03T00:00:00\",\"2014-02-10T00:00:00\",\"2014-02-17T00:00:00\",\"2014-02-24T00:00:00\",\"2014-03-03T00:00:00\",\"2014-03-10T00:00:00\",\"2014-03-17T00:00:00\",\"2014-03-24T00:00:00\",\"2014-03-31T00:00:00\",\"2014-04-07T00:00:00\",\"2014-04-14T00:00:00\",\"2014-04-21T00:00:00\",\"2014-04-28T00:00:00\",\"2014-05-05T00:00:00\",\"2014-05-12T00:00:00\",\"2014-05-19T00:00:00\",\"2014-05-26T00:00:00\",\"2014-06-02T00:00:00\",\"2014-06-09T00:00:00\",\"2014-06-16T00:00:00\",\"2014-06-23T00:00:00\",\"2014-06-30T00:00:00\",\"2014-07-07T00:00:00\",\"2014-07-14T00:00:00\",\"2014-07-21T00:00:00\",\"2014-07-28T00:00:00\",\"2014-08-04T00:00:00\",\"2014-08-11T00:00:00\",\"2014-08-18T00:00:00\",\"2014-08-25T00:00:00\",\"2014-09-01T00:00:00\",\"2014-09-08T00:00:00\",\"2014-09-15T00:00:00\",\"2014-09-22T00:00:00\",\"2014-09-29T00:00:00\",\"2014-10-06T00:00:00\",\"2014-10-13T00:00:00\",\"2014-10-20T00:00:00\",\"2014-10-27T00:00:00\",\"2014-11-03T00:00:00\",\"2014-11-10T00:00:00\",\"2014-11-17T00:00:00\",\"2014-11-24T00:00:00\",\"2014-12-01T00:00:00\",\"2014-12-08T00:00:00\",\"2014-12-15T00:00:00\",\"2014-12-22T00:00:00\",\"2014-12-29T00:00:00\"],\"xaxis\":\"x\",\"y\":[173,92,86,126,87,152,192,174,171,217,243,271,119,130,111,101,126,86,116,94,139,85,100,54,56,32,26,13,12,10,1,8,1,6,1,2,0,5,1,10,7,7,19,4,11,5,14,13,4,6,17,8,20,15,7,15,9,23,16,38,16,32,40,35,26,41,41,75,44,52,31,39,14,106,23,47,23,43,5,6,12,4,4,4,4,8,2,4,5,1,5,11,3,6,7,8,21,18,20,25,24,34,33,46,76,35,93,125,155,75,114,117,87,86,64,140,163,66,58,84,111,23,53,61,87,76,62,80,18,16,29,27,90,2,3,2,0,3,1,2,2,1,2,11,12,19,13,20,37,41,37,37,33,30,60,3,138,86,57,94,129,50,12,9,8,21,105,34,18,71,37,58,47,31,57,35,59,24,66,12,30,11,0,18,13,7,0,2,6,1,1,4,2,1,3,0,10,16,3,11,4,24,4,34,19,42,37,20,8,57,44,9,53,23,25,57,75,35,64,65,34,29,16,39,74,38,59,56,68,47,46,55,59,39,15,14,21,4,19,3,4,3,3,5,1,2,1,0,1,3,3,13,24,10,13,14,20,11,12,11,13,6,11,11,3,12,12,9,13,15,13,17,16,11,17,28,17,18,4,27,25,17,11,8,25,17,12,21,8,4,2,2,0,2,5,1,1,1,2,3,5,5,18,45,12,36,30,61,86,24,46,78,28,26,149,95,34,76,47,76,102,44,55,37,43,54,42,38,37,73,33,53,31,49,33,45,47,37,7,7,5,2,0,0,1,0,2,1,1,1,2,2,0,2,7,1,3,1,0,28,5,12,19,11,1,12,11,11,16,8,16,7,4,3,1,7,6,3,3,2,15,5,2,8,14,21,8,3,3,9,3,5,2,12,9,20,6,9,0,1,6,1,0,2,0,3,10,30,21,32,34,25,59,24,54,22,25,35,61,22,20,46,23,55,32,39,27,15,65,50,8,13,14,30,43,8,4,5,8,6,28,7,12,70,14,1,8,5,3,2,0,3,0,1,1,1,8,0,1,7,11,4,11,8,19,10,11,23,0,1,4,4,13,24,14,26,21,30,41,20,50,58,54,26,56,6,0,59,62,9,74,27,8,11,8,4,5,3,2,7,0,4,1,7,0,0,1,1,0,1,1,26,2,0,0,7,2,6,10,0,0,32],\"yaxis\":\"y\",\"type\":\"scattergl\"}],                        {\"template\":{\"data\":{\"bar\":[{\"error_x\":{\"color\":\"#2a3f5f\"},\"error_y\":{\"color\":\"#2a3f5f\"},\"marker\":{\"line\":{\"color\":\"#E5ECF6\",\"width\":0.5},\"pattern\":{\"fillmode\":\"overlay\",\"size\":10,\"solidity\":0.2}},\"type\":\"bar\"}],\"barpolar\":[{\"marker\":{\"line\":{\"color\":\"#E5ECF6\",\"width\":0.5},\"pattern\":{\"fillmode\":\"overlay\",\"size\":10,\"solidity\":0.2}},\"type\":\"barpolar\"}],\"carpet\":[{\"aaxis\":{\"endlinecolor\":\"#2a3f5f\",\"gridcolor\":\"white\",\"linecolor\":\"white\",\"minorgridcolor\":\"white\",\"startlinecolor\":\"#2a3f5f\"},\"baxis\":{\"endlinecolor\":\"#2a3f5f\",\"gridcolor\":\"white\",\"linecolor\":\"white\",\"minorgridcolor\":\"white\",\"startlinecolor\":\"#2a3f5f\"},\"type\":\"carpet\"}],\"choropleth\":[{\"colorbar\":{\"outlinewidth\":0,\"ticks\":\"\"},\"type\":\"choropleth\"}],\"contour\":[{\"colorbar\":{\"outlinewidth\":0,\"ticks\":\"\"},\"colorscale\":[[0.0,\"#0d0887\"],[0.1111111111111111,\"#46039f\"],[0.2222222222222222,\"#7201a8\"],[0.3333333333333333,\"#9c179e\"],[0.4444444444444444,\"#bd3786\"],[0.5555555555555556,\"#d8576b\"],[0.6666666666666666,\"#ed7953\"],[0.7777777777777778,\"#fb9f3a\"],[0.8888888888888888,\"#fdca26\"],[1.0,\"#f0f921\"]],\"type\":\"contour\"}],\"contourcarpet\":[{\"colorbar\":{\"outlinewidth\":0,\"ticks\":\"\"},\"type\":\"contourcarpet\"}],\"heatmap\":[{\"colorbar\":{\"outlinewidth\":0,\"ticks\":\"\"},\"colorscale\":[[0.0,\"#0d0887\"],[0.1111111111111111,\"#46039f\"],[0.2222222222222222,\"#7201a8\"],[0.3333333333333333,\"#9c179e\"],[0.4444444444444444,\"#bd3786\"],[0.5555555555555556,\"#d8576b\"],[0.6666666666666666,\"#ed7953\"],[0.7777777777777778,\"#fb9f3a\"],[0.8888888888888888,\"#fdca26\"],[1.0,\"#f0f921\"]],\"type\":\"heatmap\"}],\"heatmapgl\":[{\"colorbar\":{\"outlinewidth\":0,\"ticks\":\"\"},\"colorscale\":[[0.0,\"#0d0887\"],[0.1111111111111111,\"#46039f\"],[0.2222222222222222,\"#7201a8\"],[0.3333333333333333,\"#9c179e\"],[0.4444444444444444,\"#bd3786\"],[0.5555555555555556,\"#d8576b\"],[0.6666666666666666,\"#ed7953\"],[0.7777777777777778,\"#fb9f3a\"],[0.8888888888888888,\"#fdca26\"],[1.0,\"#f0f921\"]],\"type\":\"heatmapgl\"}],\"histogram\":[{\"marker\":{\"pattern\":{\"fillmode\":\"overlay\",\"size\":10,\"solidity\":0.2}},\"type\":\"histogram\"}],\"histogram2d\":[{\"colorbar\":{\"outlinewidth\":0,\"ticks\":\"\"},\"colorscale\":[[0.0,\"#0d0887\"],[0.1111111111111111,\"#46039f\"],[0.2222222222222222,\"#7201a8\"],[0.3333333333333333,\"#9c179e\"],[0.4444444444444444,\"#bd3786\"],[0.5555555555555556,\"#d8576b\"],[0.6666666666666666,\"#ed7953\"],[0.7777777777777778,\"#fb9f3a\"],[0.8888888888888888,\"#fdca26\"],[1.0,\"#f0f921\"]],\"type\":\"histogram2d\"}],\"histogram2dcontour\":[{\"colorbar\":{\"outlinewidth\":0,\"ticks\":\"\"},\"colorscale\":[[0.0,\"#0d0887\"],[0.1111111111111111,\"#46039f\"],[0.2222222222222222,\"#7201a8\"],[0.3333333333333333,\"#9c179e\"],[0.4444444444444444,\"#bd3786\"],[0.5555555555555556,\"#d8576b\"],[0.6666666666666666,\"#ed7953\"],[0.7777777777777778,\"#fb9f3a\"],[0.8888888888888888,\"#fdca26\"],[1.0,\"#f0f921\"]],\"type\":\"histogram2dcontour\"}],\"mesh3d\":[{\"colorbar\":{\"outlinewidth\":0,\"ticks\":\"\"},\"type\":\"mesh3d\"}],\"parcoords\":[{\"line\":{\"colorbar\":{\"outlinewidth\":0,\"ticks\":\"\"}},\"type\":\"parcoords\"}],\"pie\":[{\"automargin\":true,\"type\":\"pie\"}],\"scatter\":[{\"marker\":{\"colorbar\":{\"outlinewidth\":0,\"ticks\":\"\"}},\"type\":\"scatter\"}],\"scatter3d\":[{\"line\":{\"colorbar\":{\"outlinewidth\":0,\"ticks\":\"\"}},\"marker\":{\"colorbar\":{\"outlinewidth\":0,\"ticks\":\"\"}},\"type\":\"scatter3d\"}],\"scattercarpet\":[{\"marker\":{\"colorbar\":{\"outlinewidth\":0,\"ticks\":\"\"}},\"type\":\"scattercarpet\"}],\"scattergeo\":[{\"marker\":{\"colorbar\":{\"outlinewidth\":0,\"ticks\":\"\"}},\"type\":\"scattergeo\"}],\"scattergl\":[{\"marker\":{\"colorbar\":{\"outlinewidth\":0,\"ticks\":\"\"}},\"type\":\"scattergl\"}],\"scattermapbox\":[{\"marker\":{\"colorbar\":{\"outlinewidth\":0,\"ticks\":\"\"}},\"type\":\"scattermapbox\"}],\"scatterpolar\":[{\"marker\":{\"colorbar\":{\"outlinewidth\":0,\"ticks\":\"\"}},\"type\":\"scatterpolar\"}],\"scatterpolargl\":[{\"marker\":{\"colorbar\":{\"outlinewidth\":0,\"ticks\":\"\"}},\"type\":\"scatterpolargl\"}],\"scatterternary\":[{\"marker\":{\"colorbar\":{\"outlinewidth\":0,\"ticks\":\"\"}},\"type\":\"scatterternary\"}],\"surface\":[{\"colorbar\":{\"outlinewidth\":0,\"ticks\":\"\"},\"colorscale\":[[0.0,\"#0d0887\"],[0.1111111111111111,\"#46039f\"],[0.2222222222222222,\"#7201a8\"],[0.3333333333333333,\"#9c179e\"],[0.4444444444444444,\"#bd3786\"],[0.5555555555555556,\"#d8576b\"],[0.6666666666666666,\"#ed7953\"],[0.7777777777777778,\"#fb9f3a\"],[0.8888888888888888,\"#fdca26\"],[1.0,\"#f0f921\"]],\"type\":\"surface\"}],\"table\":[{\"cells\":{\"fill\":{\"color\":\"#EBF0F8\"},\"line\":{\"color\":\"white\"}},\"header\":{\"fill\":{\"color\":\"#C8D4E3\"},\"line\":{\"color\":\"white\"}},\"type\":\"table\"}]},\"layout\":{\"annotationdefaults\":{\"arrowcolor\":\"#2a3f5f\",\"arrowhead\":0,\"arrowwidth\":1},\"autotypenumbers\":\"strict\",\"coloraxis\":{\"colorbar\":{\"outlinewidth\":0,\"ticks\":\"\"}},\"colorscale\":{\"diverging\":[[0,\"#8e0152\"],[0.1,\"#c51b7d\"],[0.2,\"#de77ae\"],[0.3,\"#f1b6da\"],[0.4,\"#fde0ef\"],[0.5,\"#f7f7f7\"],[0.6,\"#e6f5d0\"],[0.7,\"#b8e186\"],[0.8,\"#7fbc41\"],[0.9,\"#4d9221\"],[1,\"#276419\"]],\"sequential\":[[0.0,\"#0d0887\"],[0.1111111111111111,\"#46039f\"],[0.2222222222222222,\"#7201a8\"],[0.3333333333333333,\"#9c179e\"],[0.4444444444444444,\"#bd3786\"],[0.5555555555555556,\"#d8576b\"],[0.6666666666666666,\"#ed7953\"],[0.7777777777777778,\"#fb9f3a\"],[0.8888888888888888,\"#fdca26\"],[1.0,\"#f0f921\"]],\"sequentialminus\":[[0.0,\"#0d0887\"],[0.1111111111111111,\"#46039f\"],[0.2222222222222222,\"#7201a8\"],[0.3333333333333333,\"#9c179e\"],[0.4444444444444444,\"#bd3786\"],[0.5555555555555556,\"#d8576b\"],[0.6666666666666666,\"#ed7953\"],[0.7777777777777778,\"#fb9f3a\"],[0.8888888888888888,\"#fdca26\"],[1.0,\"#f0f921\"]]},\"colorway\":[\"#636efa\",\"#EF553B\",\"#00cc96\",\"#ab63fa\",\"#FFA15A\",\"#19d3f3\",\"#FF6692\",\"#B6E880\",\"#FF97FF\",\"#FECB52\"],\"font\":{\"color\":\"#2a3f5f\"},\"geo\":{\"bgcolor\":\"white\",\"lakecolor\":\"white\",\"landcolor\":\"#E5ECF6\",\"showlakes\":true,\"showland\":true,\"subunitcolor\":\"white\"},\"hoverlabel\":{\"align\":\"left\"},\"hovermode\":\"closest\",\"mapbox\":{\"style\":\"light\"},\"paper_bgcolor\":\"white\",\"plot_bgcolor\":\"#E5ECF6\",\"polar\":{\"angularaxis\":{\"gridcolor\":\"white\",\"linecolor\":\"white\",\"ticks\":\"\"},\"bgcolor\":\"#E5ECF6\",\"radialaxis\":{\"gridcolor\":\"white\",\"linecolor\":\"white\",\"ticks\":\"\"}},\"scene\":{\"xaxis\":{\"backgroundcolor\":\"#E5ECF6\",\"gridcolor\":\"white\",\"gridwidth\":2,\"linecolor\":\"white\",\"showbackground\":true,\"ticks\":\"\",\"zerolinecolor\":\"white\"},\"yaxis\":{\"backgroundcolor\":\"#E5ECF6\",\"gridcolor\":\"white\",\"gridwidth\":2,\"linecolor\":\"white\",\"showbackground\":true,\"ticks\":\"\",\"zerolinecolor\":\"white\"},\"zaxis\":{\"backgroundcolor\":\"#E5ECF6\",\"gridcolor\":\"white\",\"gridwidth\":2,\"linecolor\":\"white\",\"showbackground\":true,\"ticks\":\"\",\"zerolinecolor\":\"white\"}},\"shapedefaults\":{\"line\":{\"color\":\"#2a3f5f\"}},\"ternary\":{\"aaxis\":{\"gridcolor\":\"white\",\"linecolor\":\"white\",\"ticks\":\"\"},\"baxis\":{\"gridcolor\":\"white\",\"linecolor\":\"white\",\"ticks\":\"\"},\"bgcolor\":\"#E5ECF6\",\"caxis\":{\"gridcolor\":\"white\",\"linecolor\":\"white\",\"ticks\":\"\"}},\"title\":{\"x\":0.05},\"xaxis\":{\"automargin\":true,\"gridcolor\":\"white\",\"linecolor\":\"white\",\"ticks\":\"\",\"title\":{\"standoff\":15},\"zerolinecolor\":\"white\",\"zerolinewidth\":2},\"yaxis\":{\"automargin\":true,\"gridcolor\":\"white\",\"linecolor\":\"white\",\"ticks\":\"\",\"title\":{\"standoff\":15},\"zerolinecolor\":\"white\",\"zerolinewidth\":2}}},\"xaxis\":{\"anchor\":\"y\",\"domain\":[0.0,1.0],\"title\":{\"text\":\"A\\u00f1os\"}},\"yaxis\":{\"anchor\":\"x\",\"domain\":[0.0,1.0],\"title\":{\"text\":\"Casos Varicela\"}},\"legend\":{\"title\":{\"text\":\"variable\"},\"tracegroupgap\":0},\"margin\":{\"t\":60}},                        {\"responsive\": true}                    ).then(function(){\n",
              "                            \n",
              "var gd = document.getElementById('65d22f18-80f8-4c8a-9f53-af27a05ea122');\n",
              "var x = new MutationObserver(function (mutations, observer) {{\n",
              "        var display = window.getComputedStyle(gd).display;\n",
              "        if (!display || display === 'none') {{\n",
              "            console.log([gd, 'removed!']);\n",
              "            Plotly.purge(gd);\n",
              "            observer.disconnect();\n",
              "        }}\n",
              "}});\n",
              "\n",
              "// Listen for the removal of the full notebook cells\n",
              "var notebookContainer = gd.closest('#notebook-container');\n",
              "if (notebookContainer) {{\n",
              "    x.observe(notebookContainer, {childList: true});\n",
              "}}\n",
              "\n",
              "// Listen for the clearing of the current output cell\n",
              "var outputEl = gd.closest('.output');\n",
              "if (outputEl) {{\n",
              "    x.observe(outputEl, {childList: true});\n",
              "}}\n",
              "\n",
              "                        })                };                            </script>        </div>\n",
              "</body>\n",
              "</html>"
            ]
          },
          "metadata": {}
        }
      ]
    },
    {
      "cell_type": "code",
      "source": [
        "fig.write_html(\"data.html\")"
      ],
      "metadata": {
        "id": "m3u5OxC4WdPg"
      },
      "execution_count": 35,
      "outputs": []
    },
    {
      "cell_type": "markdown",
      "source": [
        "La varicela es una enfermedad muy contagiosa, causada por el virus de la varicela-zóster y la enfermedad tiene por lo general una duración de entre 4 y 7 días. Este virus se propaga fácilmente de las personas enfermas a aquellas que nunca han tenido la enfermedad o nunca se vacunaron. Si una persona tiene el virus, hasta un 90% de las personas que le rodeen y no tengan inmunidad también se infectarán. Aunque en varios países europeos se encuentra incluida la vacuna contra este virus en sus programas de inmunización nacional, en Hungría está disponible desde 2003, sin embargo, su aplicación era opcional y los costos no eran reembolsables. Sólo hasta 2019 se incluyó esta vacuna en el Plan Nacional de inmunización.\n",
        "\n",
        "La gráfica nos permite inferir que los picos obedecen probablemente a factores estacionarios, ya que es común que en promedio, en el segundo trimestre del año se presente un mayor número de casos de varicela. Estudios han concluido que en época de primavera, los cambios de temperatura en los meses de marzo a mayo favorecen la proliferación de algunos virus. \n",
        "\n",
        "Asimismo, observando el comportamiento de los 4 condados, se observa que en Budapest hay una mayor cantidad de personas infectadas con el virus, esto explicado también en que es la capital de Hungría, y presenta de forma significativa una mayor cantidad de habitantes. En promedio, en Budapest en el periodo de estudio se presentaban en promedio 102 casos semanales, en Baranya se presentaban en promedio 35 casos semanales, en Bacs un promedio de 38 casos y en Bekes un promedio de 29 casos por semana.\n",
        "\n",
        "\n",
        "\n",
        "\n"
      ],
      "metadata": {
        "id": "oawHqyq987H7"
      }
    }
  ]
}